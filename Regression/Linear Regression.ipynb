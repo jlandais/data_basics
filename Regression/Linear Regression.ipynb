{
 "cells": [
  {
   "cell_type": "markdown",
   "id": "219bc536",
   "metadata": {},
   "source": [
    "# Import Librairies"
   ]
  },
  {
   "cell_type": "code",
   "execution_count": 1,
   "id": "114e0b0d",
   "metadata": {},
   "outputs": [],
   "source": [
    "import pandas as pd\n",
    "import numpy as np\n",
    "import matplotlib.pyplot as plt"
   ]
  },
  {
   "cell_type": "markdown",
   "id": "c52b9ac1",
   "metadata": {},
   "source": [
    "# Load Data"
   ]
  },
  {
   "cell_type": "markdown",
   "id": "791960ed",
   "metadata": {},
   "source": [
    "Our goal will be to predict the price of a property using various features."
   ]
  },
  {
   "cell_type": "code",
   "execution_count": 2,
   "id": "1efe2ec0",
   "metadata": {},
   "outputs": [],
   "source": [
    "# !kaggle datasets download -d dansbecker/melbourne-housing-snapshot"
   ]
  },
  {
   "cell_type": "code",
   "execution_count": 3,
   "id": "41644642",
   "metadata": {},
   "outputs": [
    {
     "data": {
      "text/html": [
       "<div>\n",
       "<style scoped>\n",
       "    .dataframe tbody tr th:only-of-type {\n",
       "        vertical-align: middle;\n",
       "    }\n",
       "\n",
       "    .dataframe tbody tr th {\n",
       "        vertical-align: top;\n",
       "    }\n",
       "\n",
       "    .dataframe thead th {\n",
       "        text-align: right;\n",
       "    }\n",
       "</style>\n",
       "<table border=\"1\" class=\"dataframe\">\n",
       "  <thead>\n",
       "    <tr style=\"text-align: right;\">\n",
       "      <th></th>\n",
       "      <th>Suburb</th>\n",
       "      <th>Address</th>\n",
       "      <th>Rooms</th>\n",
       "      <th>Type</th>\n",
       "      <th>Price</th>\n",
       "      <th>Method</th>\n",
       "      <th>SellerG</th>\n",
       "      <th>Date</th>\n",
       "      <th>Distance</th>\n",
       "      <th>Postcode</th>\n",
       "      <th>...</th>\n",
       "      <th>Bathroom</th>\n",
       "      <th>Car</th>\n",
       "      <th>Landsize</th>\n",
       "      <th>BuildingArea</th>\n",
       "      <th>YearBuilt</th>\n",
       "      <th>CouncilArea</th>\n",
       "      <th>Lattitude</th>\n",
       "      <th>Longtitude</th>\n",
       "      <th>Regionname</th>\n",
       "      <th>Propertycount</th>\n",
       "    </tr>\n",
       "  </thead>\n",
       "  <tbody>\n",
       "    <tr>\n",
       "      <th>0</th>\n",
       "      <td>Abbotsford</td>\n",
       "      <td>85 Turner St</td>\n",
       "      <td>2</td>\n",
       "      <td>h</td>\n",
       "      <td>1480000.0</td>\n",
       "      <td>S</td>\n",
       "      <td>Biggin</td>\n",
       "      <td>3/12/2016</td>\n",
       "      <td>2.5</td>\n",
       "      <td>3067.0</td>\n",
       "      <td>...</td>\n",
       "      <td>1.0</td>\n",
       "      <td>1.0</td>\n",
       "      <td>202.0</td>\n",
       "      <td>NaN</td>\n",
       "      <td>NaN</td>\n",
       "      <td>Yarra</td>\n",
       "      <td>-37.7996</td>\n",
       "      <td>144.9984</td>\n",
       "      <td>Northern Metropolitan</td>\n",
       "      <td>4019.0</td>\n",
       "    </tr>\n",
       "    <tr>\n",
       "      <th>1</th>\n",
       "      <td>Abbotsford</td>\n",
       "      <td>25 Bloomburg St</td>\n",
       "      <td>2</td>\n",
       "      <td>h</td>\n",
       "      <td>1035000.0</td>\n",
       "      <td>S</td>\n",
       "      <td>Biggin</td>\n",
       "      <td>4/02/2016</td>\n",
       "      <td>2.5</td>\n",
       "      <td>3067.0</td>\n",
       "      <td>...</td>\n",
       "      <td>1.0</td>\n",
       "      <td>0.0</td>\n",
       "      <td>156.0</td>\n",
       "      <td>79.0</td>\n",
       "      <td>1900.0</td>\n",
       "      <td>Yarra</td>\n",
       "      <td>-37.8079</td>\n",
       "      <td>144.9934</td>\n",
       "      <td>Northern Metropolitan</td>\n",
       "      <td>4019.0</td>\n",
       "    </tr>\n",
       "    <tr>\n",
       "      <th>2</th>\n",
       "      <td>Abbotsford</td>\n",
       "      <td>5 Charles St</td>\n",
       "      <td>3</td>\n",
       "      <td>h</td>\n",
       "      <td>1465000.0</td>\n",
       "      <td>SP</td>\n",
       "      <td>Biggin</td>\n",
       "      <td>4/03/2017</td>\n",
       "      <td>2.5</td>\n",
       "      <td>3067.0</td>\n",
       "      <td>...</td>\n",
       "      <td>2.0</td>\n",
       "      <td>0.0</td>\n",
       "      <td>134.0</td>\n",
       "      <td>150.0</td>\n",
       "      <td>1900.0</td>\n",
       "      <td>Yarra</td>\n",
       "      <td>-37.8093</td>\n",
       "      <td>144.9944</td>\n",
       "      <td>Northern Metropolitan</td>\n",
       "      <td>4019.0</td>\n",
       "    </tr>\n",
       "    <tr>\n",
       "      <th>3</th>\n",
       "      <td>Abbotsford</td>\n",
       "      <td>40 Federation La</td>\n",
       "      <td>3</td>\n",
       "      <td>h</td>\n",
       "      <td>850000.0</td>\n",
       "      <td>PI</td>\n",
       "      <td>Biggin</td>\n",
       "      <td>4/03/2017</td>\n",
       "      <td>2.5</td>\n",
       "      <td>3067.0</td>\n",
       "      <td>...</td>\n",
       "      <td>2.0</td>\n",
       "      <td>1.0</td>\n",
       "      <td>94.0</td>\n",
       "      <td>NaN</td>\n",
       "      <td>NaN</td>\n",
       "      <td>Yarra</td>\n",
       "      <td>-37.7969</td>\n",
       "      <td>144.9969</td>\n",
       "      <td>Northern Metropolitan</td>\n",
       "      <td>4019.0</td>\n",
       "    </tr>\n",
       "    <tr>\n",
       "      <th>4</th>\n",
       "      <td>Abbotsford</td>\n",
       "      <td>55a Park St</td>\n",
       "      <td>4</td>\n",
       "      <td>h</td>\n",
       "      <td>1600000.0</td>\n",
       "      <td>VB</td>\n",
       "      <td>Nelson</td>\n",
       "      <td>4/06/2016</td>\n",
       "      <td>2.5</td>\n",
       "      <td>3067.0</td>\n",
       "      <td>...</td>\n",
       "      <td>1.0</td>\n",
       "      <td>2.0</td>\n",
       "      <td>120.0</td>\n",
       "      <td>142.0</td>\n",
       "      <td>2014.0</td>\n",
       "      <td>Yarra</td>\n",
       "      <td>-37.8072</td>\n",
       "      <td>144.9941</td>\n",
       "      <td>Northern Metropolitan</td>\n",
       "      <td>4019.0</td>\n",
       "    </tr>\n",
       "  </tbody>\n",
       "</table>\n",
       "<p>5 rows × 21 columns</p>\n",
       "</div>"
      ],
      "text/plain": [
       "       Suburb           Address  Rooms Type      Price Method SellerG  \\\n",
       "0  Abbotsford      85 Turner St      2    h  1480000.0      S  Biggin   \n",
       "1  Abbotsford   25 Bloomburg St      2    h  1035000.0      S  Biggin   \n",
       "2  Abbotsford      5 Charles St      3    h  1465000.0     SP  Biggin   \n",
       "3  Abbotsford  40 Federation La      3    h   850000.0     PI  Biggin   \n",
       "4  Abbotsford       55a Park St      4    h  1600000.0     VB  Nelson   \n",
       "\n",
       "        Date  Distance  Postcode  ...  Bathroom  Car  Landsize  BuildingArea  \\\n",
       "0  3/12/2016       2.5    3067.0  ...       1.0  1.0     202.0           NaN   \n",
       "1  4/02/2016       2.5    3067.0  ...       1.0  0.0     156.0          79.0   \n",
       "2  4/03/2017       2.5    3067.0  ...       2.0  0.0     134.0         150.0   \n",
       "3  4/03/2017       2.5    3067.0  ...       2.0  1.0      94.0           NaN   \n",
       "4  4/06/2016       2.5    3067.0  ...       1.0  2.0     120.0         142.0   \n",
       "\n",
       "   YearBuilt  CouncilArea Lattitude  Longtitude             Regionname  \\\n",
       "0        NaN        Yarra  -37.7996    144.9984  Northern Metropolitan   \n",
       "1     1900.0        Yarra  -37.8079    144.9934  Northern Metropolitan   \n",
       "2     1900.0        Yarra  -37.8093    144.9944  Northern Metropolitan   \n",
       "3        NaN        Yarra  -37.7969    144.9969  Northern Metropolitan   \n",
       "4     2014.0        Yarra  -37.8072    144.9941  Northern Metropolitan   \n",
       "\n",
       "  Propertycount  \n",
       "0        4019.0  \n",
       "1        4019.0  \n",
       "2        4019.0  \n",
       "3        4019.0  \n",
       "4        4019.0  \n",
       "\n",
       "[5 rows x 21 columns]"
      ]
     },
     "execution_count": 3,
     "metadata": {},
     "output_type": "execute_result"
    }
   ],
   "source": [
    "df = pd.read_csv('melb_data.csv')\n",
    "df.head()"
   ]
  },
  {
   "cell_type": "code",
   "execution_count": 4,
   "id": "2ad17c95",
   "metadata": {},
   "outputs": [
    {
     "data": {
      "text/plain": [
       "<Axes: >"
      ]
     },
     "execution_count": 4,
     "metadata": {},
     "output_type": "execute_result"
    },
    {
     "data": {
      "image/png": "[encoded data removed]",
      "text/plain": [
       "<Figure size 640x480 with 1 Axes>"
      ]
     },
     "metadata": {},
     "output_type": "display_data"
    }
   ],
   "source": [
    "df['Price'].hist(bins=50)"
   ]
  },
  {
   "cell_type": "code",
   "execution_count": 5,
   "id": "24900748",
   "metadata": {},
   "outputs": [
    {
     "data": {
      "text/plain": [
       "Index(['Suburb', 'Address', 'Rooms', 'Type', 'Price', 'Method', 'SellerG',\n",
       "       'Date', 'Distance', 'Postcode', 'Bedroom2', 'Bathroom', 'Car',\n",
       "       'Landsize', 'BuildingArea', 'YearBuilt', 'CouncilArea', 'Lattitude',\n",
       "       'Longtitude', 'Regionname', 'Propertycount'],\n",
       "      dtype='object')"
      ]
     },
     "execution_count": 5,
     "metadata": {},
     "output_type": "execute_result"
    }
   ],
   "source": [
    "df.columns"
   ]
  },
  {
   "cell_type": "markdown",
   "id": "d561b057",
   "metadata": {},
   "source": [
    "In order to simplify this problem, let's keep only a subset of the columns."
   ]
  },
  {
   "cell_type": "code",
   "execution_count": 6,
   "id": "0a9d3f26",
   "metadata": {},
   "outputs": [
    {
     "data": {
      "text/html": [
       "<div>\n",
       "<style scoped>\n",
       "    .dataframe tbody tr th:only-of-type {\n",
       "        vertical-align: middle;\n",
       "    }\n",
       "\n",
       "    .dataframe tbody tr th {\n",
       "        vertical-align: top;\n",
       "    }\n",
       "\n",
       "    .dataframe thead th {\n",
       "        text-align: right;\n",
       "    }\n",
       "</style>\n",
       "<table border=\"1\" class=\"dataframe\">\n",
       "  <thead>\n",
       "    <tr style=\"text-align: right;\">\n",
       "      <th></th>\n",
       "      <th>Rooms</th>\n",
       "      <th>Price</th>\n",
       "      <th>Distance</th>\n",
       "      <th>Type</th>\n",
       "      <th>Lattitude</th>\n",
       "      <th>Longtitude</th>\n",
       "      <th>BuildingArea</th>\n",
       "    </tr>\n",
       "  </thead>\n",
       "  <tbody>\n",
       "    <tr>\n",
       "      <th>0</th>\n",
       "      <td>2</td>\n",
       "      <td>1480000.0</td>\n",
       "      <td>2.5</td>\n",
       "      <td>h</td>\n",
       "      <td>-37.7996</td>\n",
       "      <td>144.9984</td>\n",
       "      <td>NaN</td>\n",
       "    </tr>\n",
       "    <tr>\n",
       "      <th>1</th>\n",
       "      <td>2</td>\n",
       "      <td>1035000.0</td>\n",
       "      <td>2.5</td>\n",
       "      <td>h</td>\n",
       "      <td>-37.8079</td>\n",
       "      <td>144.9934</td>\n",
       "      <td>79.0</td>\n",
       "    </tr>\n",
       "    <tr>\n",
       "      <th>2</th>\n",
       "      <td>3</td>\n",
       "      <td>1465000.0</td>\n",
       "      <td>2.5</td>\n",
       "      <td>h</td>\n",
       "      <td>-37.8093</td>\n",
       "      <td>144.9944</td>\n",
       "      <td>150.0</td>\n",
       "    </tr>\n",
       "    <tr>\n",
       "      <th>3</th>\n",
       "      <td>3</td>\n",
       "      <td>850000.0</td>\n",
       "      <td>2.5</td>\n",
       "      <td>h</td>\n",
       "      <td>-37.7969</td>\n",
       "      <td>144.9969</td>\n",
       "      <td>NaN</td>\n",
       "    </tr>\n",
       "    <tr>\n",
       "      <th>4</th>\n",
       "      <td>4</td>\n",
       "      <td>1600000.0</td>\n",
       "      <td>2.5</td>\n",
       "      <td>h</td>\n",
       "      <td>-37.8072</td>\n",
       "      <td>144.9941</td>\n",
       "      <td>142.0</td>\n",
       "    </tr>\n",
       "  </tbody>\n",
       "</table>\n",
       "</div>"
      ],
      "text/plain": [
       "   Rooms      Price  Distance Type  Lattitude  Longtitude  BuildingArea\n",
       "0      2  1480000.0       2.5    h   -37.7996    144.9984           NaN\n",
       "1      2  1035000.0       2.5    h   -37.8079    144.9934          79.0\n",
       "2      3  1465000.0       2.5    h   -37.8093    144.9944         150.0\n",
       "3      3   850000.0       2.5    h   -37.7969    144.9969           NaN\n",
       "4      4  1600000.0       2.5    h   -37.8072    144.9941         142.0"
      ]
     },
     "execution_count": 6,
     "metadata": {},
     "output_type": "execute_result"
    }
   ],
   "source": [
    "df = df[['Rooms','Price','Distance','Type','Lattitude','Longtitude','BuildingArea']]\n",
    "df.head()"
   ]
  },
  {
   "cell_type": "markdown",
   "id": "bf8d44ab",
   "metadata": {},
   "source": [
    "# Basic cleaning"
   ]
  },
  {
   "cell_type": "code",
   "execution_count": 7,
   "id": "26c18830",
   "metadata": {},
   "outputs": [
    {
     "data": {
      "text/plain": [
       "Rooms              0\n",
       "Price              0\n",
       "Distance           0\n",
       "Type               0\n",
       "Lattitude          0\n",
       "Longtitude         0\n",
       "BuildingArea    6450\n",
       "dtype: int64"
      ]
     },
     "execution_count": 7,
     "metadata": {},
     "output_type": "execute_result"
    }
   ],
   "source": [
    "df.isna().sum()"
   ]
  },
  {
   "cell_type": "code",
   "execution_count": 8,
   "id": "b7445219",
   "metadata": {},
   "outputs": [],
   "source": [
    "df.loc[:,\"BuildingArea\"] = df[\"BuildingArea\"].median()"
   ]
  },
  {
   "cell_type": "code",
   "execution_count": 9,
   "id": "45f5d430",
   "metadata": {},
   "outputs": [
    {
     "data": {
      "text/plain": [
       "Rooms           0\n",
       "Price           0\n",
       "Distance        0\n",
       "Type            0\n",
       "Lattitude       0\n",
       "Longtitude      0\n",
       "BuildingArea    0\n",
       "dtype: int64"
      ]
     },
     "execution_count": 9,
     "metadata": {},
     "output_type": "execute_result"
    }
   ],
   "source": [
    "df.isna().sum()"
   ]
  },
  {
   "cell_type": "markdown",
   "id": "9e83c44a",
   "metadata": {},
   "source": [
    "Let's encode the type, which is a categorical feature."
   ]
  },
  {
   "cell_type": "code",
   "execution_count": 10,
   "id": "721ede8d",
   "metadata": {},
   "outputs": [
    {
     "data": {
      "text/plain": [
       "array(['h', 'u', 't'], dtype=object)"
      ]
     },
     "execution_count": 10,
     "metadata": {},
     "output_type": "execute_result"
    }
   ],
   "source": [
    "df['Type'].unique()"
   ]
  },
  {
   "cell_type": "code",
   "execution_count": 11,
   "id": "ff50a3ab",
   "metadata": {},
   "outputs": [
    {
     "data": {
      "text/plain": [
       "h    9449\n",
       "u    3017\n",
       "t    1114\n",
       "Name: Type, dtype: int64"
      ]
     },
     "execution_count": 11,
     "metadata": {},
     "output_type": "execute_result"
    }
   ],
   "source": [
    "df['Type'].value_counts()"
   ]
  },
  {
   "cell_type": "code",
   "execution_count": 12,
   "id": "816efd87",
   "metadata": {},
   "outputs": [],
   "source": [
    "from sklearn.preprocessing import OneHotEncoder\n",
    "OH_encoder = OneHotEncoder(sparse=False)"
   ]
  },
  {
   "cell_type": "code",
   "execution_count": 13,
   "id": "3bc76b40",
   "metadata": {},
   "outputs": [
    {
     "name": "stderr",
     "output_type": "stream",
     "text": [
      "/home/jean/miniconda3/lib/python3.9/site-packages/sklearn/preprocessing/_encoders.py:828: FutureWarning: `sparse` was renamed to `sparse_output` in version 1.2 and will be removed in 1.4. `sparse_output` is ignored unless you leave `sparse` to its default value.\n",
      "  warnings.warn(\n"
     ]
    },
    {
     "data": {
      "text/plain": [
       "array([[1., 0., 0.],\n",
       "       [1., 0., 0.],\n",
       "       [1., 0., 0.],\n",
       "       ...,\n",
       "       [1., 0., 0.],\n",
       "       [1., 0., 0.],\n",
       "       [1., 0., 0.]])"
      ]
     },
     "execution_count": 13,
     "metadata": {},
     "output_type": "execute_result"
    }
   ],
   "source": [
    "encoding = OH_encoder.fit_transform(df[[\"Type\"]])\n",
    "encoding"
   ]
  },
  {
   "cell_type": "code",
   "execution_count": 14,
   "id": "86c7b04f",
   "metadata": {},
   "outputs": [
    {
     "data": {
      "text/plain": [
       "[array(['h', 't', 'u'], dtype=object)]"
      ]
     },
     "execution_count": 14,
     "metadata": {},
     "output_type": "execute_result"
    }
   ],
   "source": [
    "OH_encoder.categories_"
   ]
  },
  {
   "cell_type": "code",
   "execution_count": 15,
   "id": "631148c1",
   "metadata": {},
   "outputs": [
    {
     "data": {
      "text/html": [
       "<div>\n",
       "<style scoped>\n",
       "    .dataframe tbody tr th:only-of-type {\n",
       "        vertical-align: middle;\n",
       "    }\n",
       "\n",
       "    .dataframe tbody tr th {\n",
       "        vertical-align: top;\n",
       "    }\n",
       "\n",
       "    .dataframe thead th {\n",
       "        text-align: right;\n",
       "    }\n",
       "</style>\n",
       "<table border=\"1\" class=\"dataframe\">\n",
       "  <thead>\n",
       "    <tr style=\"text-align: right;\">\n",
       "      <th></th>\n",
       "      <th>h</th>\n",
       "      <th>t</th>\n",
       "      <th>u</th>\n",
       "    </tr>\n",
       "  </thead>\n",
       "  <tbody>\n",
       "    <tr>\n",
       "      <th>0</th>\n",
       "      <td>1.0</td>\n",
       "      <td>0.0</td>\n",
       "      <td>0.0</td>\n",
       "    </tr>\n",
       "    <tr>\n",
       "      <th>1</th>\n",
       "      <td>1.0</td>\n",
       "      <td>0.0</td>\n",
       "      <td>0.0</td>\n",
       "    </tr>\n",
       "    <tr>\n",
       "      <th>2</th>\n",
       "      <td>1.0</td>\n",
       "      <td>0.0</td>\n",
       "      <td>0.0</td>\n",
       "    </tr>\n",
       "    <tr>\n",
       "      <th>3</th>\n",
       "      <td>1.0</td>\n",
       "      <td>0.0</td>\n",
       "      <td>0.0</td>\n",
       "    </tr>\n",
       "    <tr>\n",
       "      <th>4</th>\n",
       "      <td>1.0</td>\n",
       "      <td>0.0</td>\n",
       "      <td>0.0</td>\n",
       "    </tr>\n",
       "    <tr>\n",
       "      <th>...</th>\n",
       "      <td>...</td>\n",
       "      <td>...</td>\n",
       "      <td>...</td>\n",
       "    </tr>\n",
       "    <tr>\n",
       "      <th>13575</th>\n",
       "      <td>1.0</td>\n",
       "      <td>0.0</td>\n",
       "      <td>0.0</td>\n",
       "    </tr>\n",
       "    <tr>\n",
       "      <th>13576</th>\n",
       "      <td>1.0</td>\n",
       "      <td>0.0</td>\n",
       "      <td>0.0</td>\n",
       "    </tr>\n",
       "    <tr>\n",
       "      <th>13577</th>\n",
       "      <td>1.0</td>\n",
       "      <td>0.0</td>\n",
       "      <td>0.0</td>\n",
       "    </tr>\n",
       "    <tr>\n",
       "      <th>13578</th>\n",
       "      <td>1.0</td>\n",
       "      <td>0.0</td>\n",
       "      <td>0.0</td>\n",
       "    </tr>\n",
       "    <tr>\n",
       "      <th>13579</th>\n",
       "      <td>1.0</td>\n",
       "      <td>0.0</td>\n",
       "      <td>0.0</td>\n",
       "    </tr>\n",
       "  </tbody>\n",
       "</table>\n",
       "<p>13580 rows × 3 columns</p>\n",
       "</div>"
      ],
      "text/plain": [
       "         h    t    u\n",
       "0      1.0  0.0  0.0\n",
       "1      1.0  0.0  0.0\n",
       "2      1.0  0.0  0.0\n",
       "3      1.0  0.0  0.0\n",
       "4      1.0  0.0  0.0\n",
       "...    ...  ...  ...\n",
       "13575  1.0  0.0  0.0\n",
       "13576  1.0  0.0  0.0\n",
       "13577  1.0  0.0  0.0\n",
       "13578  1.0  0.0  0.0\n",
       "13579  1.0  0.0  0.0\n",
       "\n",
       "[13580 rows x 3 columns]"
      ]
     },
     "execution_count": 15,
     "metadata": {},
     "output_type": "execute_result"
    }
   ],
   "source": [
    "cols = pd.DataFrame(encoding, columns=['h', 't', 'u'])\n",
    "cols"
   ]
  },
  {
   "cell_type": "code",
   "execution_count": 16,
   "id": "c7bc7b69",
   "metadata": {},
   "outputs": [
    {
     "data": {
      "text/html": [
       "<div>\n",
       "<style scoped>\n",
       "    .dataframe tbody tr th:only-of-type {\n",
       "        vertical-align: middle;\n",
       "    }\n",
       "\n",
       "    .dataframe tbody tr th {\n",
       "        vertical-align: top;\n",
       "    }\n",
       "\n",
       "    .dataframe thead th {\n",
       "        text-align: right;\n",
       "    }\n",
       "</style>\n",
       "<table border=\"1\" class=\"dataframe\">\n",
       "  <thead>\n",
       "    <tr style=\"text-align: right;\">\n",
       "      <th></th>\n",
       "      <th>Rooms</th>\n",
       "      <th>Price</th>\n",
       "      <th>Distance</th>\n",
       "      <th>Lattitude</th>\n",
       "      <th>Longtitude</th>\n",
       "      <th>BuildingArea</th>\n",
       "      <th>h</th>\n",
       "      <th>t</th>\n",
       "      <th>u</th>\n",
       "    </tr>\n",
       "  </thead>\n",
       "  <tbody>\n",
       "    <tr>\n",
       "      <th>0</th>\n",
       "      <td>2</td>\n",
       "      <td>1480000.0</td>\n",
       "      <td>2.5</td>\n",
       "      <td>-37.79960</td>\n",
       "      <td>144.99840</td>\n",
       "      <td>126.0</td>\n",
       "      <td>1.0</td>\n",
       "      <td>0.0</td>\n",
       "      <td>0.0</td>\n",
       "    </tr>\n",
       "    <tr>\n",
       "      <th>1</th>\n",
       "      <td>2</td>\n",
       "      <td>1035000.0</td>\n",
       "      <td>2.5</td>\n",
       "      <td>-37.80790</td>\n",
       "      <td>144.99340</td>\n",
       "      <td>126.0</td>\n",
       "      <td>1.0</td>\n",
       "      <td>0.0</td>\n",
       "      <td>0.0</td>\n",
       "    </tr>\n",
       "    <tr>\n",
       "      <th>2</th>\n",
       "      <td>3</td>\n",
       "      <td>1465000.0</td>\n",
       "      <td>2.5</td>\n",
       "      <td>-37.80930</td>\n",
       "      <td>144.99440</td>\n",
       "      <td>126.0</td>\n",
       "      <td>1.0</td>\n",
       "      <td>0.0</td>\n",
       "      <td>0.0</td>\n",
       "    </tr>\n",
       "    <tr>\n",
       "      <th>3</th>\n",
       "      <td>3</td>\n",
       "      <td>850000.0</td>\n",
       "      <td>2.5</td>\n",
       "      <td>-37.79690</td>\n",
       "      <td>144.99690</td>\n",
       "      <td>126.0</td>\n",
       "      <td>1.0</td>\n",
       "      <td>0.0</td>\n",
       "      <td>0.0</td>\n",
       "    </tr>\n",
       "    <tr>\n",
       "      <th>4</th>\n",
       "      <td>4</td>\n",
       "      <td>1600000.0</td>\n",
       "      <td>2.5</td>\n",
       "      <td>-37.80720</td>\n",
       "      <td>144.99410</td>\n",
       "      <td>126.0</td>\n",
       "      <td>1.0</td>\n",
       "      <td>0.0</td>\n",
       "      <td>0.0</td>\n",
       "    </tr>\n",
       "    <tr>\n",
       "      <th>...</th>\n",
       "      <td>...</td>\n",
       "      <td>...</td>\n",
       "      <td>...</td>\n",
       "      <td>...</td>\n",
       "      <td>...</td>\n",
       "      <td>...</td>\n",
       "      <td>...</td>\n",
       "      <td>...</td>\n",
       "      <td>...</td>\n",
       "    </tr>\n",
       "    <tr>\n",
       "      <th>13575</th>\n",
       "      <td>4</td>\n",
       "      <td>1245000.0</td>\n",
       "      <td>16.7</td>\n",
       "      <td>-37.90562</td>\n",
       "      <td>145.16761</td>\n",
       "      <td>126.0</td>\n",
       "      <td>1.0</td>\n",
       "      <td>0.0</td>\n",
       "      <td>0.0</td>\n",
       "    </tr>\n",
       "    <tr>\n",
       "      <th>13576</th>\n",
       "      <td>3</td>\n",
       "      <td>1031000.0</td>\n",
       "      <td>6.8</td>\n",
       "      <td>-37.85927</td>\n",
       "      <td>144.87904</td>\n",
       "      <td>126.0</td>\n",
       "      <td>1.0</td>\n",
       "      <td>0.0</td>\n",
       "      <td>0.0</td>\n",
       "    </tr>\n",
       "    <tr>\n",
       "      <th>13577</th>\n",
       "      <td>3</td>\n",
       "      <td>1170000.0</td>\n",
       "      <td>6.8</td>\n",
       "      <td>-37.85274</td>\n",
       "      <td>144.88738</td>\n",
       "      <td>126.0</td>\n",
       "      <td>1.0</td>\n",
       "      <td>0.0</td>\n",
       "      <td>0.0</td>\n",
       "    </tr>\n",
       "    <tr>\n",
       "      <th>13578</th>\n",
       "      <td>4</td>\n",
       "      <td>2500000.0</td>\n",
       "      <td>6.8</td>\n",
       "      <td>-37.85908</td>\n",
       "      <td>144.89299</td>\n",
       "      <td>126.0</td>\n",
       "      <td>1.0</td>\n",
       "      <td>0.0</td>\n",
       "      <td>0.0</td>\n",
       "    </tr>\n",
       "    <tr>\n",
       "      <th>13579</th>\n",
       "      <td>4</td>\n",
       "      <td>1285000.0</td>\n",
       "      <td>6.3</td>\n",
       "      <td>-37.81188</td>\n",
       "      <td>144.88449</td>\n",
       "      <td>126.0</td>\n",
       "      <td>1.0</td>\n",
       "      <td>0.0</td>\n",
       "      <td>0.0</td>\n",
       "    </tr>\n",
       "  </tbody>\n",
       "</table>\n",
       "<p>13580 rows × 9 columns</p>\n",
       "</div>"
      ],
      "text/plain": [
       "       Rooms      Price  Distance  Lattitude  Longtitude  BuildingArea    h  \\\n",
       "0          2  1480000.0       2.5  -37.79960   144.99840         126.0  1.0   \n",
       "1          2  1035000.0       2.5  -37.80790   144.99340         126.0  1.0   \n",
       "2          3  1465000.0       2.5  -37.80930   144.99440         126.0  1.0   \n",
       "3          3   850000.0       2.5  -37.79690   144.99690         126.0  1.0   \n",
       "4          4  1600000.0       2.5  -37.80720   144.99410         126.0  1.0   \n",
       "...      ...        ...       ...        ...         ...           ...  ...   \n",
       "13575      4  1245000.0      16.7  -37.90562   145.16761         126.0  1.0   \n",
       "13576      3  1031000.0       6.8  -37.85927   144.87904         126.0  1.0   \n",
       "13577      3  1170000.0       6.8  -37.85274   144.88738         126.0  1.0   \n",
       "13578      4  2500000.0       6.8  -37.85908   144.89299         126.0  1.0   \n",
       "13579      4  1285000.0       6.3  -37.81188   144.88449         126.0  1.0   \n",
       "\n",
       "         t    u  \n",
       "0      0.0  0.0  \n",
       "1      0.0  0.0  \n",
       "2      0.0  0.0  \n",
       "3      0.0  0.0  \n",
       "4      0.0  0.0  \n",
       "...    ...  ...  \n",
       "13575  0.0  0.0  \n",
       "13576  0.0  0.0  \n",
       "13577  0.0  0.0  \n",
       "13578  0.0  0.0  \n",
       "13579  0.0  0.0  \n",
       "\n",
       "[13580 rows x 9 columns]"
      ]
     },
     "execution_count": 16,
     "metadata": {},
     "output_type": "execute_result"
    }
   ],
   "source": [
    "df_prepared = df.join(cols).drop(['Type'], axis = 1)\n",
    "df_prepared"
   ]
  },
  {
   "cell_type": "markdown",
   "id": "a497ee3f",
   "metadata": {},
   "source": [
    "# Data Split"
   ]
  },
  {
   "cell_type": "code",
   "execution_count": 17,
   "id": "df729547",
   "metadata": {},
   "outputs": [
    {
     "data": {
      "text/plain": [
       "(13580, 9)"
      ]
     },
     "execution_count": 17,
     "metadata": {},
     "output_type": "execute_result"
    }
   ],
   "source": [
    "df_prepared.shape"
   ]
  },
  {
   "cell_type": "code",
   "execution_count": 18,
   "id": "9bbb9470",
   "metadata": {},
   "outputs": [],
   "source": [
    "from sklearn.model_selection import train_test_split, StratifiedShuffleSplit"
   ]
  },
  {
   "cell_type": "markdown",
   "id": "e7ddb506",
   "metadata": {},
   "source": [
    "Basic split :"
   ]
  },
  {
   "cell_type": "code",
   "execution_count": 19,
   "id": "7c661687",
   "metadata": {},
   "outputs": [],
   "source": [
    "train_set, test_set = train_test_split(df_prepared, test_size=0.2)"
   ]
  },
  {
   "cell_type": "code",
   "execution_count": 20,
   "id": "56d66476",
   "metadata": {},
   "outputs": [],
   "source": [
    "X_train = train_set.drop(['Price'], axis = 1)\n",
    "Y_train = train_set['Price']\n",
    "X_test = train_set.drop(['Price'], axis = 1)\n",
    "Y_test = train_set['Price']"
   ]
  },
  {
   "cell_type": "code",
   "execution_count": 21,
   "id": "201c768f",
   "metadata": {},
   "outputs": [
    {
     "data": {
      "text/html": [
       "<div>\n",
       "<style scoped>\n",
       "    .dataframe tbody tr th:only-of-type {\n",
       "        vertical-align: middle;\n",
       "    }\n",
       "\n",
       "    .dataframe tbody tr th {\n",
       "        vertical-align: top;\n",
       "    }\n",
       "\n",
       "    .dataframe thead th {\n",
       "        text-align: right;\n",
       "    }\n",
       "</style>\n",
       "<table border=\"1\" class=\"dataframe\">\n",
       "  <thead>\n",
       "    <tr style=\"text-align: right;\">\n",
       "      <th></th>\n",
       "      <th>Rooms</th>\n",
       "      <th>Distance</th>\n",
       "      <th>Lattitude</th>\n",
       "      <th>Longtitude</th>\n",
       "      <th>BuildingArea</th>\n",
       "      <th>h</th>\n",
       "      <th>t</th>\n",
       "      <th>u</th>\n",
       "    </tr>\n",
       "  </thead>\n",
       "  <tbody>\n",
       "    <tr>\n",
       "      <th>3681</th>\n",
       "      <td>4</td>\n",
       "      <td>5.6</td>\n",
       "      <td>-37.80330</td>\n",
       "      <td>145.05260</td>\n",
       "      <td>126.0</td>\n",
       "      <td>1.0</td>\n",
       "      <td>0.0</td>\n",
       "      <td>0.0</td>\n",
       "    </tr>\n",
       "    <tr>\n",
       "      <th>624</th>\n",
       "      <td>2</td>\n",
       "      <td>9.2</td>\n",
       "      <td>-37.79410</td>\n",
       "      <td>145.10420</td>\n",
       "      <td>126.0</td>\n",
       "      <td>1.0</td>\n",
       "      <td>0.0</td>\n",
       "      <td>0.0</td>\n",
       "    </tr>\n",
       "    <tr>\n",
       "      <th>8544</th>\n",
       "      <td>3</td>\n",
       "      <td>7.0</td>\n",
       "      <td>-37.81490</td>\n",
       "      <td>144.89420</td>\n",
       "      <td>126.0</td>\n",
       "      <td>1.0</td>\n",
       "      <td>0.0</td>\n",
       "      <td>0.0</td>\n",
       "    </tr>\n",
       "    <tr>\n",
       "      <th>11545</th>\n",
       "      <td>4</td>\n",
       "      <td>3.1</td>\n",
       "      <td>-37.80884</td>\n",
       "      <td>144.95291</td>\n",
       "      <td>126.0</td>\n",
       "      <td>1.0</td>\n",
       "      <td>0.0</td>\n",
       "      <td>0.0</td>\n",
       "    </tr>\n",
       "    <tr>\n",
       "      <th>8493</th>\n",
       "      <td>4</td>\n",
       "      <td>8.2</td>\n",
       "      <td>-37.79690</td>\n",
       "      <td>144.86470</td>\n",
       "      <td>126.0</td>\n",
       "      <td>1.0</td>\n",
       "      <td>0.0</td>\n",
       "      <td>0.0</td>\n",
       "    </tr>\n",
       "  </tbody>\n",
       "</table>\n",
       "</div>"
      ],
      "text/plain": [
       "       Rooms  Distance  Lattitude  Longtitude  BuildingArea    h    t    u\n",
       "3681       4       5.6  -37.80330   145.05260         126.0  1.0  0.0  0.0\n",
       "624        2       9.2  -37.79410   145.10420         126.0  1.0  0.0  0.0\n",
       "8544       3       7.0  -37.81490   144.89420         126.0  1.0  0.0  0.0\n",
       "11545      4       3.1  -37.80884   144.95291         126.0  1.0  0.0  0.0\n",
       "8493       4       8.2  -37.79690   144.86470         126.0  1.0  0.0  0.0"
      ]
     },
     "execution_count": 21,
     "metadata": {},
     "output_type": "execute_result"
    }
   ],
   "source": [
    "X_train.head()"
   ]
  },
  {
   "cell_type": "markdown",
   "id": "3d913f95",
   "metadata": {},
   "source": [
    "# Model Definition"
   ]
  },
  {
   "cell_type": "code",
   "execution_count": 22,
   "id": "746dcf16",
   "metadata": {},
   "outputs": [],
   "source": [
    "from sklearn.linear_model import LinearRegression\n",
    "lin_model = LinearRegression()"
   ]
  },
  {
   "cell_type": "markdown",
   "id": "4681a3fb",
   "metadata": {},
   "source": [
    "# Model Training"
   ]
  },
  {
   "cell_type": "code",
   "execution_count": 23,
   "id": "be20a4f0",
   "metadata": {},
   "outputs": [
    {
     "data": {
      "text/html": [
       "<style>#sk-container-id-1 {color: black;background-color: white;}#sk-container-id-1 pre{padding: 0;}#sk-container-id-1 div.sk-toggleable {background-color: white;}#sk-container-id-1 label.sk-toggleable__label {cursor: pointer;display: block;width: 100%;margin-bottom: 0;padding: 0.3em;box-sizing: border-box;text-align: center;}#sk-container-id-1 label.sk-toggleable__label-arrow:before {content: \"▸\";float: left;margin-right: 0.25em;color: #696969;}#sk-container-id-1 label.sk-toggleable__label-arrow:hover:before {color: black;}#sk-container-id-1 div.sk-estimator:hover label.sk-toggleable__label-arrow:before {color: black;}#sk-container-id-1 div.sk-toggleable__content {max-height: 0;max-width: 0;overflow: hidden;text-align: left;background-color: #f0f8ff;}#sk-container-id-1 div.sk-toggleable__content pre {margin: 0.2em;color: black;border-radius: 0.25em;background-color: #f0f8ff;}#sk-container-id-1 input.sk-toggleable__control:checked~div.sk-toggleable__content {max-height: 200px;max-width: 100%;overflow: auto;}#sk-container-id-1 input.sk-toggleable__control:checked~label.sk-toggleable__label-arrow:before {content: \"▾\";}#sk-container-id-1 div.sk-estimator input.sk-toggleable__control:checked~label.sk-toggleable__label {background-color: #d4ebff;}#sk-container-id-1 div.sk-label input.sk-toggleable__control:checked~label.sk-toggleable__label {background-color: #d4ebff;}#sk-container-id-1 input.sk-hidden--visually {border: 0;clip: rect(1px 1px 1px 1px);clip: rect(1px, 1px, 1px, 1px);height: 1px;margin: -1px;overflow: hidden;padding: 0;position: absolute;width: 1px;}#sk-container-id-1 div.sk-estimator {font-family: monospace;background-color: #f0f8ff;border: 1px dotted black;border-radius: 0.25em;box-sizing: border-box;margin-bottom: 0.5em;}#sk-container-id-1 div.sk-estimator:hover {background-color: #d4ebff;}#sk-container-id-1 div.sk-parallel-item::after {content: \"\";width: 100%;border-bottom: 1px solid gray;flex-grow: 1;}#sk-container-id-1 div.sk-label:hover label.sk-toggleable__label {background-color: #d4ebff;}#sk-container-id-1 div.sk-serial::before {content: \"\";position: absolute;border-left: 1px solid gray;box-sizing: border-box;top: 0;bottom: 0;left: 50%;z-index: 0;}#sk-container-id-1 div.sk-serial {display: flex;flex-direction: column;align-items: center;background-color: white;padding-right: 0.2em;padding-left: 0.2em;position: relative;}#sk-container-id-1 div.sk-item {position: relative;z-index: 1;}#sk-container-id-1 div.sk-parallel {display: flex;align-items: stretch;justify-content: center;background-color: white;position: relative;}#sk-container-id-1 div.sk-item::before, #sk-container-id-1 div.sk-parallel-item::before {content: \"\";position: absolute;border-left: 1px solid gray;box-sizing: border-box;top: 0;bottom: 0;left: 50%;z-index: -1;}#sk-container-id-1 div.sk-parallel-item {display: flex;flex-direction: column;z-index: 1;position: relative;background-color: white;}#sk-container-id-1 div.sk-parallel-item:first-child::after {align-self: flex-end;width: 50%;}#sk-container-id-1 div.sk-parallel-item:last-child::after {align-self: flex-start;width: 50%;}#sk-container-id-1 div.sk-parallel-item:only-child::after {width: 0;}#sk-container-id-1 div.sk-dashed-wrapped {border: 1px dashed gray;margin: 0 0.4em 0.5em 0.4em;box-sizing: border-box;padding-bottom: 0.4em;background-color: white;}#sk-container-id-1 div.sk-label label {font-family: monospace;font-weight: bold;display: inline-block;line-height: 1.2em;}#sk-container-id-1 div.sk-label-container {text-align: center;}#sk-container-id-1 div.sk-container {/* jupyter's `normalize.less` sets `[hidden] { display: none; }` but bootstrap.min.css set `[hidden] { display: none !important; }` so we also need the `!important` here to be able to override the default hidden behavior on the sphinx rendered scikit-learn.org. See: https://github.com/scikit-learn/scikit-learn/issues/21755 */display: inline-block !important;position: relative;}#sk-container-id-1 div.sk-text-repr-fallback {display: none;}</style><div id=\"sk-container-id-1\" class=\"sk-top-container\"><div class=\"sk-text-repr-fallback\"><pre>LinearRegression()</pre><b>In a Jupyter environment, please rerun this cell to show the HTML representation or trust the notebook. <br />On GitHub, the HTML representation is unable to render, please try loading this page with nbviewer.org.</b></div><div class=\"sk-container\" hidden><div class=\"sk-item\"><div class=\"sk-estimator sk-toggleable\"><input class=\"sk-toggleable__control sk-hidden--visually\" id=\"sk-estimator-id-1\" type=\"checkbox\" checked><label for=\"sk-estimator-id-1\" class=\"sk-toggleable__label sk-toggleable__label-arrow\">LinearRegression</label><div class=\"sk-toggleable__content\"><pre>LinearRegression()</pre></div></div></div></div></div>"
      ],
      "text/plain": [
       "LinearRegression()"
      ]
     },
     "execution_count": 23,
     "metadata": {},
     "output_type": "execute_result"
    }
   ],
   "source": [
    "lin_model.fit(X_train,Y_train)"
   ]
  },
  {
   "cell_type": "markdown",
   "id": "434a177f",
   "metadata": {},
   "source": [
    "# Model Prediction"
   ]
  },
  {
   "cell_type": "code",
   "execution_count": 24,
   "id": "c3ca4c21",
   "metadata": {},
   "outputs": [],
   "source": [
    "y_pred = lin_model.predict(X_test)"
   ]
  },
  {
   "cell_type": "code",
   "execution_count": 25,
   "id": "05989b8a",
   "metadata": {},
   "outputs": [
    {
     "data": {
      "text/plain": [
       "(10864,)"
      ]
     },
     "execution_count": 25,
     "metadata": {},
     "output_type": "execute_result"
    }
   ],
   "source": [
    "y_pred.shape"
   ]
  },
  {
   "cell_type": "code",
   "execution_count": 26,
   "id": "02953df8",
   "metadata": {},
   "outputs": [
    {
     "data": {
      "text/plain": [
       "(10864,)"
      ]
     },
     "execution_count": 26,
     "metadata": {},
     "output_type": "execute_result"
    }
   ],
   "source": [
    "y_test_np = Y_test.array\n",
    "y_test_np.shape"
   ]
  },
  {
   "cell_type": "markdown",
   "id": "05513e83",
   "metadata": {},
   "source": [
    "# Mean Square Error"
   ]
  },
  {
   "cell_type": "code",
   "execution_count": 27,
   "id": "7c278a41",
   "metadata": {},
   "outputs": [
    {
     "data": {
      "text/plain": [
       "192746357296.43887"
      ]
     },
     "execution_count": 27,
     "metadata": {},
     "output_type": "execute_result"
    }
   ],
   "source": [
    "MSE = np.mean((y_pred-y_test_np)**2)\n",
    "MSE"
   ]
  },
  {
   "cell_type": "code",
   "execution_count": 28,
   "id": "0bb9457a",
   "metadata": {},
   "outputs": [
    {
     "data": {
      "text/plain": [
       "439028.87979771773"
      ]
     },
     "execution_count": 28,
     "metadata": {},
     "output_type": "execute_result"
    }
   ],
   "source": [
    "np.sqrt(MSE)"
   ]
  },
  {
   "cell_type": "code",
   "execution_count": 29,
   "id": "336e993a",
   "metadata": {},
   "outputs": [
    {
     "data": {
      "text/plain": [
       "1.0105031600743004e-15"
      ]
     },
     "execution_count": 29,
     "metadata": {},
     "output_type": "execute_result"
    }
   ],
   "source": [
    "MSE = np.mean(y_pred-y_test_np)**2\n",
    "MSE"
   ]
  },
  {
   "cell_type": "code",
   "execution_count": 30,
   "id": "20974f75",
   "metadata": {},
   "outputs": [
    {
     "data": {
      "text/plain": [
       "-3.1788412355358365e-08"
      ]
     },
     "execution_count": 30,
     "metadata": {},
     "output_type": "execute_result"
    }
   ],
   "source": [
    "np.mean(y_pred-y_test_np)"
   ]
  },
  {
   "cell_type": "code",
   "execution_count": 31,
   "id": "429ad31a",
   "metadata": {},
   "outputs": [
    {
     "data": {
      "text/plain": [
       "2183047.5463852286"
      ]
     },
     "execution_count": 31,
     "metadata": {},
     "output_type": "execute_result"
    }
   ],
   "source": [
    "np.max(y_pred-y_test_np)"
   ]
  },
  {
   "cell_type": "code",
   "execution_count": 32,
   "id": "59ef874f",
   "metadata": {},
   "outputs": [
    {
     "data": {
      "text/plain": [
       "-6035807.654897213"
      ]
     },
     "execution_count": 32,
     "metadata": {},
     "output_type": "execute_result"
    }
   ],
   "source": [
    "np.min(y_pred-y_test_np)"
   ]
  },
  {
   "cell_type": "markdown",
   "id": "e6fcac27",
   "metadata": {},
   "source": [
    "Attention à ne pas tomber dans ce piège ! "
   ]
  },
  {
   "cell_type": "code",
   "execution_count": 33,
   "id": "19efbbcd",
   "metadata": {},
   "outputs": [
    {
     "data": {
      "text/plain": [
       "(array([1.000e+00, 1.000e+00, 0.000e+00, 0.000e+00, 0.000e+00, 0.000e+00,\n",
       "        0.000e+00, 0.000e+00, 1.000e+00, 0.000e+00, 0.000e+00, 1.000e+00,\n",
       "        0.000e+00, 2.000e+00, 2.000e+00, 2.000e+00, 2.000e+00, 5.000e+00,\n",
       "        4.000e+00, 2.000e+00, 2.000e+00, 1.000e+00, 1.100e+01, 2.600e+01,\n",
       "        1.200e+01, 1.000e+01, 3.000e+01, 3.000e+01, 5.300e+01, 8.100e+01,\n",
       "        1.000e+02, 1.390e+02, 2.100e+02, 3.730e+02, 5.900e+02, 1.248e+03,\n",
       "        2.088e+03, 2.671e+03, 1.884e+03, 8.510e+02, 3.050e+02, 8.800e+01,\n",
       "        2.300e+01, 8.000e+00, 3.000e+00, 1.000e+00, 1.000e+00, 1.000e+00,\n",
       "        0.000e+00, 1.000e+00]),\n",
       " array([-6035807.65489721, -5871430.55087156, -5707053.44684592,\n",
       "        -5542676.34282027, -5378299.23879462, -5213922.13476897,\n",
       "        -5049545.03074332, -4885167.92671767, -4720790.82269202,\n",
       "        -4556413.71866637, -4392036.61464072, -4227659.51061508,\n",
       "        -4063282.40658943, -3898905.30256378, -3734528.19853813,\n",
       "        -3570151.09451248, -3405773.99048683, -3241396.88646118,\n",
       "        -3077019.78243553, -2912642.67840989, -2748265.57438424,\n",
       "        -2583888.47035859, -2419511.36633294, -2255134.26230729,\n",
       "        -2090757.15828164, -1926380.05425599, -1762002.95023034,\n",
       "        -1597625.8462047 , -1433248.74217905, -1268871.6381534 ,\n",
       "        -1104494.53412775,  -940117.4301021 ,  -775740.32607645,\n",
       "         -611363.2220508 ,  -446986.11802515,  -282609.0139995 ,\n",
       "         -118231.90997386,    46145.19405179,   210522.29807744,\n",
       "          374899.40210309,   539276.50612874,   703653.61015439,\n",
       "          868030.71418004,  1032407.81820569,  1196784.92223134,\n",
       "         1361162.02625698,  1525539.13028263,  1689916.23430828,\n",
       "         1854293.33833393,  2018670.44235958,  2183047.54638523]),\n",
       " <BarContainer object of 50 artists>)"
      ]
     },
     "execution_count": 33,
     "metadata": {},
     "output_type": "execute_result"
    },
    {
     "data": {
      "image/png": "[encoded data removed]",
      "text/plain": [
       "<Figure size 640x480 with 1 Axes>"
      ]
     },
     "metadata": {},
     "output_type": "display_data"
    }
   ],
   "source": [
    "plt.hist(y_pred-y_test_np, bins=50)"
   ]
  },
  {
   "cell_type": "markdown",
   "id": "d0cc8528",
   "metadata": {},
   "source": [
    "# Regularization"
   ]
  },
  {
   "cell_type": "markdown",
   "id": "f2bee168",
   "metadata": {},
   "source": [
    "## LASSO Regularization (L1-penalization)"
   ]
  },
  {
   "cell_type": "code",
   "execution_count": 34,
   "id": "c68e406a",
   "metadata": {},
   "outputs": [],
   "source": [
    "from sklearn.linear_model import Lasso\n",
    "lasso_reg = Lasso(alpha=1e3) # if alpha is not at least 1e3, it has no effect\n",
    "# it is mostly because the values of price are huge and I haven't rescaled them"
   ]
  },
  {
   "cell_type": "markdown",
   "id": "808c553d",
   "metadata": {},
   "source": [
    "Normally, you have to normalize the data before using LASSO or RIDGE !"
   ]
  },
  {
   "cell_type": "code",
   "execution_count": 35,
   "id": "ba1ac027",
   "metadata": {},
   "outputs": [],
   "source": [
    "lasso_reg.fit(X_train,Y_train)\n",
    "y_pred_lasso = lasso_reg.predict(X_test)"
   ]
  },
  {
   "cell_type": "markdown",
   "id": "5a92ca6a",
   "metadata": {},
   "source": [
    "### MSE"
   ]
  },
  {
   "cell_type": "code",
   "execution_count": 36,
   "id": "a3f23bd2",
   "metadata": {},
   "outputs": [
    {
     "data": {
      "text/plain": [
       "192970545732.53247"
      ]
     },
     "execution_count": 36,
     "metadata": {},
     "output_type": "execute_result"
    }
   ],
   "source": [
    "MSE = np.mean((y_pred_lasso-y_test_np)**2)\n",
    "MSE"
   ]
  },
  {
   "cell_type": "code",
   "execution_count": 37,
   "id": "cb0d47e1",
   "metadata": {},
   "outputs": [
    {
     "data": {
      "text/plain": [
       "439284.1287054797"
      ]
     },
     "execution_count": 37,
     "metadata": {},
     "output_type": "execute_result"
    }
   ],
   "source": [
    "np.sqrt(MSE)"
   ]
  },
  {
   "cell_type": "code",
   "execution_count": 38,
   "id": "9299a526",
   "metadata": {},
   "outputs": [
    {
     "data": {
      "text/plain": [
       "(array([1.000e+00, 1.000e+00, 0.000e+00, 0.000e+00, 0.000e+00, 0.000e+00,\n",
       "        0.000e+00, 0.000e+00, 1.000e+00, 0.000e+00, 0.000e+00, 1.000e+00,\n",
       "        0.000e+00, 2.000e+00, 2.000e+00, 2.000e+00, 2.000e+00, 5.000e+00,\n",
       "        4.000e+00, 2.000e+00, 2.000e+00, 1.000e+00, 1.100e+01, 2.400e+01,\n",
       "        1.400e+01, 1.200e+01, 2.900e+01, 3.500e+01, 5.400e+01, 7.900e+01,\n",
       "        1.030e+02, 1.460e+02, 2.220e+02, 3.820e+02, 6.080e+02, 1.286e+03,\n",
       "        2.146e+03, 2.694e+03, 1.811e+03, 8.000e+02, 2.760e+02, 6.800e+01,\n",
       "        2.600e+01, 5.000e+00, 3.000e+00, 1.000e+00, 1.000e+00, 1.000e+00,\n",
       "        0.000e+00, 1.000e+00]),\n",
       " array([-6043423.46462029, -5878539.3724127 , -5713655.28020511,\n",
       "        -5548771.18799751, -5383887.09578992, -5219003.00358233,\n",
       "        -5054118.91137473, -4889234.81916714, -4724350.72695955,\n",
       "        -4559466.63475195, -4394582.54254436, -4229698.45033677,\n",
       "        -4064814.35812917, -3899930.26592158, -3735046.17371399,\n",
       "        -3570162.08150639, -3405277.9892988 , -3240393.89709121,\n",
       "        -3075509.80488361, -2910625.71267602, -2745741.62046843,\n",
       "        -2580857.52826083, -2415973.43605324, -2251089.34384565,\n",
       "        -2086205.25163805, -1921321.15943046, -1756437.06722287,\n",
       "        -1591552.97501527, -1426668.88280768, -1261784.79060009,\n",
       "        -1096900.69839249,  -932016.6061849 ,  -767132.51397731,\n",
       "         -602248.42176971,  -437364.32956212,  -272480.23735453,\n",
       "         -107596.14514693,    57287.94706066,   222172.03926825,\n",
       "          387056.13147585,   551940.22368344,   716824.31589103,\n",
       "          881708.40809863,  1046592.50030622,  1211476.59251381,\n",
       "         1376360.68472141,  1541244.776929  ,  1706128.86913659,\n",
       "         1871012.96134419,  2035897.05355178,  2200781.14575937]),\n",
       " <BarContainer object of 50 artists>)"
      ]
     },
     "execution_count": 38,
     "metadata": {},
     "output_type": "execute_result"
    },
    {
     "data": {
      "image/png": "[encoded data removed]",
      "text/plain": [
       "<Figure size 640x480 with 1 Axes>"
      ]
     },
     "metadata": {},
     "output_type": "display_data"
    }
   ],
   "source": [
    "plt.hist(y_pred_lasso-y_test_np, bins=50)"
   ]
  },
  {
   "cell_type": "markdown",
   "id": "c90fab69",
   "metadata": {},
   "source": [
    "## Ridge Regularization (L2-penalization)"
   ]
  },
  {
   "cell_type": "markdown",
   "id": "fa990486",
   "metadata": {},
   "source": [
    "Let's rescale this time. I use sklearn's standard scaler to rescale X_train and do it manually for Y_train. This is because I will need the mean and variance of Y_train to rescale my model predictions."
   ]
  },
  {
   "cell_type": "code",
   "execution_count": 39,
   "id": "602c7dbb",
   "metadata": {},
   "outputs": [],
   "source": [
    "from sklearn.preprocessing import StandardScaler"
   ]
  },
  {
   "cell_type": "code",
   "execution_count": 40,
   "id": "1ecc8bdb",
   "metadata": {},
   "outputs": [
    {
     "data": {
      "text/html": [
       "<div>\n",
       "<style scoped>\n",
       "    .dataframe tbody tr th:only-of-type {\n",
       "        vertical-align: middle;\n",
       "    }\n",
       "\n",
       "    .dataframe tbody tr th {\n",
       "        vertical-align: top;\n",
       "    }\n",
       "\n",
       "    .dataframe thead th {\n",
       "        text-align: right;\n",
       "    }\n",
       "</style>\n",
       "<table border=\"1\" class=\"dataframe\">\n",
       "  <thead>\n",
       "    <tr style=\"text-align: right;\">\n",
       "      <th></th>\n",
       "      <th>Rooms</th>\n",
       "      <th>Distance</th>\n",
       "      <th>Lattitude</th>\n",
       "      <th>Longtitude</th>\n",
       "      <th>BuildingArea</th>\n",
       "      <th>h</th>\n",
       "      <th>t</th>\n",
       "      <th>u</th>\n",
       "    </tr>\n",
       "  </thead>\n",
       "  <tbody>\n",
       "    <tr>\n",
       "      <th>3681</th>\n",
       "      <td>4</td>\n",
       "      <td>5.6</td>\n",
       "      <td>-37.80330</td>\n",
       "      <td>145.05260</td>\n",
       "      <td>126.0</td>\n",
       "      <td>1.0</td>\n",
       "      <td>0.0</td>\n",
       "      <td>0.0</td>\n",
       "    </tr>\n",
       "    <tr>\n",
       "      <th>624</th>\n",
       "      <td>2</td>\n",
       "      <td>9.2</td>\n",
       "      <td>-37.79410</td>\n",
       "      <td>145.10420</td>\n",
       "      <td>126.0</td>\n",
       "      <td>1.0</td>\n",
       "      <td>0.0</td>\n",
       "      <td>0.0</td>\n",
       "    </tr>\n",
       "    <tr>\n",
       "      <th>8544</th>\n",
       "      <td>3</td>\n",
       "      <td>7.0</td>\n",
       "      <td>-37.81490</td>\n",
       "      <td>144.89420</td>\n",
       "      <td>126.0</td>\n",
       "      <td>1.0</td>\n",
       "      <td>0.0</td>\n",
       "      <td>0.0</td>\n",
       "    </tr>\n",
       "    <tr>\n",
       "      <th>11545</th>\n",
       "      <td>4</td>\n",
       "      <td>3.1</td>\n",
       "      <td>-37.80884</td>\n",
       "      <td>144.95291</td>\n",
       "      <td>126.0</td>\n",
       "      <td>1.0</td>\n",
       "      <td>0.0</td>\n",
       "      <td>0.0</td>\n",
       "    </tr>\n",
       "    <tr>\n",
       "      <th>8493</th>\n",
       "      <td>4</td>\n",
       "      <td>8.2</td>\n",
       "      <td>-37.79690</td>\n",
       "      <td>144.86470</td>\n",
       "      <td>126.0</td>\n",
       "      <td>1.0</td>\n",
       "      <td>0.0</td>\n",
       "      <td>0.0</td>\n",
       "    </tr>\n",
       "  </tbody>\n",
       "</table>\n",
       "</div>"
      ],
      "text/plain": [
       "       Rooms  Distance  Lattitude  Longtitude  BuildingArea    h    t    u\n",
       "3681       4       5.6  -37.80330   145.05260         126.0  1.0  0.0  0.0\n",
       "624        2       9.2  -37.79410   145.10420         126.0  1.0  0.0  0.0\n",
       "8544       3       7.0  -37.81490   144.89420         126.0  1.0  0.0  0.0\n",
       "11545      4       3.1  -37.80884   144.95291         126.0  1.0  0.0  0.0\n",
       "8493       4       8.2  -37.79690   144.86470         126.0  1.0  0.0  0.0"
      ]
     },
     "execution_count": 40,
     "metadata": {},
     "output_type": "execute_result"
    }
   ],
   "source": [
    "X_train.head()"
   ]
  },
  {
   "cell_type": "code",
   "execution_count": 41,
   "id": "c59f0308",
   "metadata": {},
   "outputs": [
    {
     "data": {
      "text/html": [
       "<div>\n",
       "<style scoped>\n",
       "    .dataframe tbody tr th:only-of-type {\n",
       "        vertical-align: middle;\n",
       "    }\n",
       "\n",
       "    .dataframe tbody tr th {\n",
       "        vertical-align: top;\n",
       "    }\n",
       "\n",
       "    .dataframe thead th {\n",
       "        text-align: right;\n",
       "    }\n",
       "</style>\n",
       "<table border=\"1\" class=\"dataframe\">\n",
       "  <thead>\n",
       "    <tr style=\"text-align: right;\">\n",
       "      <th></th>\n",
       "      <th>Rooms</th>\n",
       "      <th>Distance</th>\n",
       "      <th>Lattitude</th>\n",
       "      <th>Longtitude</th>\n",
       "      <th>BuildingArea</th>\n",
       "      <th>h</th>\n",
       "      <th>t</th>\n",
       "      <th>u</th>\n",
       "    </tr>\n",
       "  </thead>\n",
       "  <tbody>\n",
       "    <tr>\n",
       "      <th>count</th>\n",
       "      <td>10864.000000</td>\n",
       "      <td>10864.000000</td>\n",
       "      <td>10864.000000</td>\n",
       "      <td>10864.000000</td>\n",
       "      <td>10864.0</td>\n",
       "      <td>10864.000000</td>\n",
       "      <td>10864.000000</td>\n",
       "      <td>10864.000000</td>\n",
       "    </tr>\n",
       "    <tr>\n",
       "      <th>mean</th>\n",
       "      <td>2.934094</td>\n",
       "      <td>10.098380</td>\n",
       "      <td>-37.809549</td>\n",
       "      <td>144.995609</td>\n",
       "      <td>126.0</td>\n",
       "      <td>0.693023</td>\n",
       "      <td>0.083671</td>\n",
       "      <td>0.223306</td>\n",
       "    </tr>\n",
       "    <tr>\n",
       "      <th>std</th>\n",
       "      <td>0.960071</td>\n",
       "      <td>5.862191</td>\n",
       "      <td>0.078820</td>\n",
       "      <td>0.103531</td>\n",
       "      <td>0.0</td>\n",
       "      <td>0.461261</td>\n",
       "      <td>0.276906</td>\n",
       "      <td>0.416481</td>\n",
       "    </tr>\n",
       "    <tr>\n",
       "      <th>min</th>\n",
       "      <td>1.000000</td>\n",
       "      <td>0.000000</td>\n",
       "      <td>-38.182550</td>\n",
       "      <td>144.431810</td>\n",
       "      <td>126.0</td>\n",
       "      <td>0.000000</td>\n",
       "      <td>0.000000</td>\n",
       "      <td>0.000000</td>\n",
       "    </tr>\n",
       "    <tr>\n",
       "      <th>25%</th>\n",
       "      <td>2.000000</td>\n",
       "      <td>6.100000</td>\n",
       "      <td>-37.856800</td>\n",
       "      <td>144.930475</td>\n",
       "      <td>126.0</td>\n",
       "      <td>0.000000</td>\n",
       "      <td>0.000000</td>\n",
       "      <td>0.000000</td>\n",
       "    </tr>\n",
       "    <tr>\n",
       "      <th>50%</th>\n",
       "      <td>3.000000</td>\n",
       "      <td>9.200000</td>\n",
       "      <td>-37.802300</td>\n",
       "      <td>145.000100</td>\n",
       "      <td>126.0</td>\n",
       "      <td>1.000000</td>\n",
       "      <td>0.000000</td>\n",
       "      <td>0.000000</td>\n",
       "    </tr>\n",
       "    <tr>\n",
       "      <th>75%</th>\n",
       "      <td>3.000000</td>\n",
       "      <td>13.000000</td>\n",
       "      <td>-37.757300</td>\n",
       "      <td>145.058100</td>\n",
       "      <td>126.0</td>\n",
       "      <td>1.000000</td>\n",
       "      <td>0.000000</td>\n",
       "      <td>0.000000</td>\n",
       "    </tr>\n",
       "    <tr>\n",
       "      <th>max</th>\n",
       "      <td>10.000000</td>\n",
       "      <td>48.100000</td>\n",
       "      <td>-37.408530</td>\n",
       "      <td>145.526350</td>\n",
       "      <td>126.0</td>\n",
       "      <td>1.000000</td>\n",
       "      <td>1.000000</td>\n",
       "      <td>1.000000</td>\n",
       "    </tr>\n",
       "  </tbody>\n",
       "</table>\n",
       "</div>"
      ],
      "text/plain": [
       "              Rooms      Distance     Lattitude    Longtitude  BuildingArea  \\\n",
       "count  10864.000000  10864.000000  10864.000000  10864.000000       10864.0   \n",
       "mean       2.934094     10.098380    -37.809549    144.995609         126.0   \n",
       "std        0.960071      5.862191      0.078820      0.103531           0.0   \n",
       "min        1.000000      0.000000    -38.182550    144.431810         126.0   \n",
       "25%        2.000000      6.100000    -37.856800    144.930475         126.0   \n",
       "50%        3.000000      9.200000    -37.802300    145.000100         126.0   \n",
       "75%        3.000000     13.000000    -37.757300    145.058100         126.0   \n",
       "max       10.000000     48.100000    -37.408530    145.526350         126.0   \n",
       "\n",
       "                  h             t             u  \n",
       "count  10864.000000  10864.000000  10864.000000  \n",
       "mean       0.693023      0.083671      0.223306  \n",
       "std        0.461261      0.276906      0.416481  \n",
       "min        0.000000      0.000000      0.000000  \n",
       "25%        0.000000      0.000000      0.000000  \n",
       "50%        1.000000      0.000000      0.000000  \n",
       "75%        1.000000      0.000000      0.000000  \n",
       "max        1.000000      1.000000      1.000000  "
      ]
     },
     "execution_count": 41,
     "metadata": {},
     "output_type": "execute_result"
    }
   ],
   "source": [
    "X_train.describe()"
   ]
  },
  {
   "cell_type": "code",
   "execution_count": 42,
   "id": "ee5b7b9d",
   "metadata": {},
   "outputs": [
    {
     "data": {
      "text/html": [
       "<div>\n",
       "<style scoped>\n",
       "    .dataframe tbody tr th:only-of-type {\n",
       "        vertical-align: middle;\n",
       "    }\n",
       "\n",
       "    .dataframe tbody tr th {\n",
       "        vertical-align: top;\n",
       "    }\n",
       "\n",
       "    .dataframe thead th {\n",
       "        text-align: right;\n",
       "    }\n",
       "</style>\n",
       "<table border=\"1\" class=\"dataframe\">\n",
       "  <thead>\n",
       "    <tr style=\"text-align: right;\">\n",
       "      <th></th>\n",
       "      <th>Rooms</th>\n",
       "      <th>Distance</th>\n",
       "      <th>Lattitude</th>\n",
       "      <th>Longtitude</th>\n",
       "      <th>BuildingArea</th>\n",
       "      <th>h</th>\n",
       "      <th>t</th>\n",
       "      <th>u</th>\n",
       "    </tr>\n",
       "  </thead>\n",
       "  <tbody>\n",
       "    <tr>\n",
       "      <th>0</th>\n",
       "      <td>1.110288</td>\n",
       "      <td>-0.767390</td>\n",
       "      <td>0.079287</td>\n",
       "      <td>0.550500</td>\n",
       "      <td>0.0</td>\n",
       "      <td>0.665548</td>\n",
       "      <td>-0.302177</td>\n",
       "      <td>-0.536199</td>\n",
       "    </tr>\n",
       "    <tr>\n",
       "      <th>1</th>\n",
       "      <td>-0.972988</td>\n",
       "      <td>-0.153257</td>\n",
       "      <td>0.196015</td>\n",
       "      <td>1.048927</td>\n",
       "      <td>0.0</td>\n",
       "      <td>0.665548</td>\n",
       "      <td>-0.302177</td>\n",
       "      <td>-0.536199</td>\n",
       "    </tr>\n",
       "    <tr>\n",
       "      <th>2</th>\n",
       "      <td>0.068650</td>\n",
       "      <td>-0.528561</td>\n",
       "      <td>-0.067891</td>\n",
       "      <td>-0.979554</td>\n",
       "      <td>0.0</td>\n",
       "      <td>0.665548</td>\n",
       "      <td>-0.302177</td>\n",
       "      <td>-0.536199</td>\n",
       "    </tr>\n",
       "    <tr>\n",
       "      <th>3</th>\n",
       "      <td>1.110288</td>\n",
       "      <td>-1.193871</td>\n",
       "      <td>0.008997</td>\n",
       "      <td>-0.412448</td>\n",
       "      <td>0.0</td>\n",
       "      <td>0.665548</td>\n",
       "      <td>-0.302177</td>\n",
       "      <td>-0.536199</td>\n",
       "    </tr>\n",
       "    <tr>\n",
       "      <th>4</th>\n",
       "      <td>1.110288</td>\n",
       "      <td>-0.323849</td>\n",
       "      <td>0.160489</td>\n",
       "      <td>-1.264507</td>\n",
       "      <td>0.0</td>\n",
       "      <td>0.665548</td>\n",
       "      <td>-0.302177</td>\n",
       "      <td>-0.536199</td>\n",
       "    </tr>\n",
       "    <tr>\n",
       "      <th>...</th>\n",
       "      <td>...</td>\n",
       "      <td>...</td>\n",
       "      <td>...</td>\n",
       "      <td>...</td>\n",
       "      <td>...</td>\n",
       "      <td>...</td>\n",
       "      <td>...</td>\n",
       "      <td>...</td>\n",
       "    </tr>\n",
       "    <tr>\n",
       "      <th>10859</th>\n",
       "      <td>-0.972988</td>\n",
       "      <td>-0.323849</td>\n",
       "      <td>0.070406</td>\n",
       "      <td>-1.143764</td>\n",
       "      <td>0.0</td>\n",
       "      <td>0.665548</td>\n",
       "      <td>-0.302177</td>\n",
       "      <td>-0.536199</td>\n",
       "    </tr>\n",
       "    <tr>\n",
       "      <th>10860</th>\n",
       "      <td>2.151926</td>\n",
       "      <td>-0.187375</td>\n",
       "      <td>0.383795</td>\n",
       "      <td>0.674141</td>\n",
       "      <td>0.0</td>\n",
       "      <td>0.665548</td>\n",
       "      <td>-0.302177</td>\n",
       "      <td>-0.536199</td>\n",
       "    </tr>\n",
       "    <tr>\n",
       "      <th>10861</th>\n",
       "      <td>0.068650</td>\n",
       "      <td>-0.630916</td>\n",
       "      <td>0.094513</td>\n",
       "      <td>-0.946712</td>\n",
       "      <td>0.0</td>\n",
       "      <td>-1.502522</td>\n",
       "      <td>3.309319</td>\n",
       "      <td>-0.536199</td>\n",
       "    </tr>\n",
       "    <tr>\n",
       "      <th>10862</th>\n",
       "      <td>0.068650</td>\n",
       "      <td>0.375580</td>\n",
       "      <td>-1.171983</td>\n",
       "      <td>0.772667</td>\n",
       "      <td>0.0</td>\n",
       "      <td>0.665548</td>\n",
       "      <td>-0.302177</td>\n",
       "      <td>-0.536199</td>\n",
       "    </tr>\n",
       "    <tr>\n",
       "      <th>10863</th>\n",
       "      <td>0.068650</td>\n",
       "      <td>-1.142694</td>\n",
       "      <td>0.216316</td>\n",
       "      <td>-0.076397</td>\n",
       "      <td>0.0</td>\n",
       "      <td>0.665548</td>\n",
       "      <td>-0.302177</td>\n",
       "      <td>-0.536199</td>\n",
       "    </tr>\n",
       "  </tbody>\n",
       "</table>\n",
       "<p>10864 rows × 8 columns</p>\n",
       "</div>"
      ],
      "text/plain": [
       "          Rooms  Distance  Lattitude  Longtitude  BuildingArea         h  \\\n",
       "0      1.110288 -0.767390   0.079287    0.550500           0.0  0.665548   \n",
       "1     -0.972988 -0.153257   0.196015    1.048927           0.0  0.665548   \n",
       "2      0.068650 -0.528561  -0.067891   -0.979554           0.0  0.665548   \n",
       "3      1.110288 -1.193871   0.008997   -0.412448           0.0  0.665548   \n",
       "4      1.110288 -0.323849   0.160489   -1.264507           0.0  0.665548   \n",
       "...         ...       ...        ...         ...           ...       ...   \n",
       "10859 -0.972988 -0.323849   0.070406   -1.143764           0.0  0.665548   \n",
       "10860  2.151926 -0.187375   0.383795    0.674141           0.0  0.665548   \n",
       "10861  0.068650 -0.630916   0.094513   -0.946712           0.0 -1.502522   \n",
       "10862  0.068650  0.375580  -1.171983    0.772667           0.0  0.665548   \n",
       "10863  0.068650 -1.142694   0.216316   -0.076397           0.0  0.665548   \n",
       "\n",
       "              t         u  \n",
       "0     -0.302177 -0.536199  \n",
       "1     -0.302177 -0.536199  \n",
       "2     -0.302177 -0.536199  \n",
       "3     -0.302177 -0.536199  \n",
       "4     -0.302177 -0.536199  \n",
       "...         ...       ...  \n",
       "10859 -0.302177 -0.536199  \n",
       "10860 -0.302177 -0.536199  \n",
       "10861  3.309319 -0.536199  \n",
       "10862 -0.302177 -0.536199  \n",
       "10863 -0.302177 -0.536199  \n",
       "\n",
       "[10864 rows x 8 columns]"
      ]
     },
     "execution_count": 42,
     "metadata": {},
     "output_type": "execute_result"
    }
   ],
   "source": [
    "scaler = StandardScaler()\n",
    "scaled_cols = scaler.fit_transform(X_train)\n",
    "X_train = pd.DataFrame(scaled_cols, columns = X_train.columns)\n",
    "X_train"
   ]
  },
  {
   "cell_type": "code",
   "execution_count": 43,
   "id": "4019a939",
   "metadata": {},
   "outputs": [
    {
     "data": {
      "text/html": [
       "<div>\n",
       "<style scoped>\n",
       "    .dataframe tbody tr th:only-of-type {\n",
       "        vertical-align: middle;\n",
       "    }\n",
       "\n",
       "    .dataframe tbody tr th {\n",
       "        vertical-align: top;\n",
       "    }\n",
       "\n",
       "    .dataframe thead th {\n",
       "        text-align: right;\n",
       "    }\n",
       "</style>\n",
       "<table border=\"1\" class=\"dataframe\">\n",
       "  <thead>\n",
       "    <tr style=\"text-align: right;\">\n",
       "      <th></th>\n",
       "      <th>Rooms</th>\n",
       "      <th>Distance</th>\n",
       "      <th>Lattitude</th>\n",
       "      <th>Longtitude</th>\n",
       "      <th>BuildingArea</th>\n",
       "      <th>h</th>\n",
       "      <th>t</th>\n",
       "      <th>u</th>\n",
       "    </tr>\n",
       "  </thead>\n",
       "  <tbody>\n",
       "    <tr>\n",
       "      <th>count</th>\n",
       "      <td>1.086400e+04</td>\n",
       "      <td>1.086400e+04</td>\n",
       "      <td>1.086400e+04</td>\n",
       "      <td>1.086400e+04</td>\n",
       "      <td>10864.0</td>\n",
       "      <td>1.086400e+04</td>\n",
       "      <td>1.086400e+04</td>\n",
       "      <td>1.086400e+04</td>\n",
       "    </tr>\n",
       "    <tr>\n",
       "      <th>mean</th>\n",
       "      <td>2.204095e-16</td>\n",
       "      <td>5.951711e-17</td>\n",
       "      <td>5.082630e-14</td>\n",
       "      <td>-1.611239e-13</td>\n",
       "      <td>0.0</td>\n",
       "      <td>-6.540342e-18</td>\n",
       "      <td>-1.635085e-18</td>\n",
       "      <td>3.270171e-18</td>\n",
       "    </tr>\n",
       "    <tr>\n",
       "      <th>std</th>\n",
       "      <td>1.000046e+00</td>\n",
       "      <td>1.000046e+00</td>\n",
       "      <td>1.000046e+00</td>\n",
       "      <td>1.000046e+00</td>\n",
       "      <td>0.0</td>\n",
       "      <td>1.000046e+00</td>\n",
       "      <td>1.000046e+00</td>\n",
       "      <td>1.000046e+00</td>\n",
       "    </tr>\n",
       "    <tr>\n",
       "      <th>min</th>\n",
       "      <td>-2.014626e+00</td>\n",
       "      <td>-1.722708e+00</td>\n",
       "      <td>-4.732560e+00</td>\n",
       "      <td>-5.445978e+00</td>\n",
       "      <td>0.0</td>\n",
       "      <td>-1.502522e+00</td>\n",
       "      <td>-3.021769e-01</td>\n",
       "      <td>-5.361986e-01</td>\n",
       "    </tr>\n",
       "    <tr>\n",
       "      <th>25%</th>\n",
       "      <td>-9.729882e-01</td>\n",
       "      <td>-6.820938e-01</td>\n",
       "      <td>-5.995098e-01</td>\n",
       "      <td>-6.291578e-01</td>\n",
       "      <td>0.0</td>\n",
       "      <td>-1.502522e+00</td>\n",
       "      <td>-3.021769e-01</td>\n",
       "      <td>-5.361986e-01</td>\n",
       "    </tr>\n",
       "    <tr>\n",
       "      <th>50%</th>\n",
       "      <td>6.864993e-02</td>\n",
       "      <td>-1.532569e-01</td>\n",
       "      <td>9.197518e-02</td>\n",
       "      <td>4.338011e-02</td>\n",
       "      <td>0.0</td>\n",
       "      <td>6.655478e-01</td>\n",
       "      <td>-3.021769e-01</td>\n",
       "      <td>-5.361986e-01</td>\n",
       "    </tr>\n",
       "    <tr>\n",
       "      <th>75%</th>\n",
       "      <td>6.864993e-02</td>\n",
       "      <td>4.949947e-01</td>\n",
       "      <td>6.629261e-01</td>\n",
       "      <td>6.036272e-01</td>\n",
       "      <td>0.0</td>\n",
       "      <td>6.655478e-01</td>\n",
       "      <td>-3.021769e-01</td>\n",
       "      <td>-5.361986e-01</td>\n",
       "    </tr>\n",
       "    <tr>\n",
       "      <th>max</th>\n",
       "      <td>7.360117e+00</td>\n",
       "      <td>6.482793e+00</td>\n",
       "      <td>5.088049e+00</td>\n",
       "      <td>5.126656e+00</td>\n",
       "      <td>0.0</td>\n",
       "      <td>6.655478e-01</td>\n",
       "      <td>3.309319e+00</td>\n",
       "      <td>1.864981e+00</td>\n",
       "    </tr>\n",
       "  </tbody>\n",
       "</table>\n",
       "</div>"
      ],
      "text/plain": [
       "              Rooms      Distance     Lattitude    Longtitude  BuildingArea  \\\n",
       "count  1.086400e+04  1.086400e+04  1.086400e+04  1.086400e+04       10864.0   \n",
       "mean   2.204095e-16  5.951711e-17  5.082630e-14 -1.611239e-13           0.0   \n",
       "std    1.000046e+00  1.000046e+00  1.000046e+00  1.000046e+00           0.0   \n",
       "min   -2.014626e+00 -1.722708e+00 -4.732560e+00 -5.445978e+00           0.0   \n",
       "25%   -9.729882e-01 -6.820938e-01 -5.995098e-01 -6.291578e-01           0.0   \n",
       "50%    6.864993e-02 -1.532569e-01  9.197518e-02  4.338011e-02           0.0   \n",
       "75%    6.864993e-02  4.949947e-01  6.629261e-01  6.036272e-01           0.0   \n",
       "max    7.360117e+00  6.482793e+00  5.088049e+00  5.126656e+00           0.0   \n",
       "\n",
       "                  h             t             u  \n",
       "count  1.086400e+04  1.086400e+04  1.086400e+04  \n",
       "mean  -6.540342e-18 -1.635085e-18  3.270171e-18  \n",
       "std    1.000046e+00  1.000046e+00  1.000046e+00  \n",
       "min   -1.502522e+00 -3.021769e-01 -5.361986e-01  \n",
       "25%   -1.502522e+00 -3.021769e-01 -5.361986e-01  \n",
       "50%    6.655478e-01 -3.021769e-01 -5.361986e-01  \n",
       "75%    6.655478e-01 -3.021769e-01 -5.361986e-01  \n",
       "max    6.655478e-01  3.309319e+00  1.864981e+00  "
      ]
     },
     "execution_count": 43,
     "metadata": {},
     "output_type": "execute_result"
    }
   ],
   "source": [
    "X_train.describe()"
   ]
  },
  {
   "cell_type": "markdown",
   "id": "2dbb5151",
   "metadata": {},
   "source": [
    "Let's resize Y_train : "
   ]
  },
  {
   "cell_type": "code",
   "execution_count": 44,
   "id": "69a9e90d",
   "metadata": {},
   "outputs": [],
   "source": [
    "y_mean, y_std = Y_train.mean(), Y_train.std()\n",
    "Y_train = (Y_train - y_mean) / y_std"
   ]
  },
  {
   "cell_type": "code",
   "execution_count": 45,
   "id": "1e0167e8",
   "metadata": {},
   "outputs": [
    {
     "data": {
      "text/plain": [
       "count    1.086400e+04\n",
       "mean     6.213325e-17\n",
       "std      1.000000e+00\n",
       "min     -1.564040e+00\n",
       "25%     -6.686916e-01\n",
       "50%     -2.709349e-01\n",
       "75%      4.088962e-01\n",
       "max      1.097877e+01\n",
       "Name: Price, dtype: float64"
      ]
     },
     "execution_count": 45,
     "metadata": {},
     "output_type": "execute_result"
    }
   ],
   "source": [
    "Y_train.describe()"
   ]
  },
  {
   "cell_type": "markdown",
   "id": "9ed38948",
   "metadata": {},
   "source": [
    "Now let's deal with X_test : "
   ]
  },
  {
   "cell_type": "code",
   "execution_count": 46,
   "id": "b7f61db2",
   "metadata": {},
   "outputs": [
    {
     "data": {
      "text/html": [
       "<div>\n",
       "<style scoped>\n",
       "    .dataframe tbody tr th:only-of-type {\n",
       "        vertical-align: middle;\n",
       "    }\n",
       "\n",
       "    .dataframe tbody tr th {\n",
       "        vertical-align: top;\n",
       "    }\n",
       "\n",
       "    .dataframe thead th {\n",
       "        text-align: right;\n",
       "    }\n",
       "</style>\n",
       "<table border=\"1\" class=\"dataframe\">\n",
       "  <thead>\n",
       "    <tr style=\"text-align: right;\">\n",
       "      <th></th>\n",
       "      <th>Rooms</th>\n",
       "      <th>Distance</th>\n",
       "      <th>Lattitude</th>\n",
       "      <th>Longtitude</th>\n",
       "      <th>BuildingArea</th>\n",
       "      <th>h</th>\n",
       "      <th>t</th>\n",
       "      <th>u</th>\n",
       "    </tr>\n",
       "  </thead>\n",
       "  <tbody>\n",
       "    <tr>\n",
       "      <th>0</th>\n",
       "      <td>1.110288</td>\n",
       "      <td>-0.767390</td>\n",
       "      <td>0.079287</td>\n",
       "      <td>0.550500</td>\n",
       "      <td>0.0</td>\n",
       "      <td>0.665548</td>\n",
       "      <td>-0.302177</td>\n",
       "      <td>-0.536199</td>\n",
       "    </tr>\n",
       "    <tr>\n",
       "      <th>1</th>\n",
       "      <td>-0.972988</td>\n",
       "      <td>-0.153257</td>\n",
       "      <td>0.196015</td>\n",
       "      <td>1.048927</td>\n",
       "      <td>0.0</td>\n",
       "      <td>0.665548</td>\n",
       "      <td>-0.302177</td>\n",
       "      <td>-0.536199</td>\n",
       "    </tr>\n",
       "    <tr>\n",
       "      <th>2</th>\n",
       "      <td>0.068650</td>\n",
       "      <td>-0.528561</td>\n",
       "      <td>-0.067891</td>\n",
       "      <td>-0.979554</td>\n",
       "      <td>0.0</td>\n",
       "      <td>0.665548</td>\n",
       "      <td>-0.302177</td>\n",
       "      <td>-0.536199</td>\n",
       "    </tr>\n",
       "    <tr>\n",
       "      <th>3</th>\n",
       "      <td>1.110288</td>\n",
       "      <td>-1.193871</td>\n",
       "      <td>0.008997</td>\n",
       "      <td>-0.412448</td>\n",
       "      <td>0.0</td>\n",
       "      <td>0.665548</td>\n",
       "      <td>-0.302177</td>\n",
       "      <td>-0.536199</td>\n",
       "    </tr>\n",
       "    <tr>\n",
       "      <th>4</th>\n",
       "      <td>1.110288</td>\n",
       "      <td>-0.323849</td>\n",
       "      <td>0.160489</td>\n",
       "      <td>-1.264507</td>\n",
       "      <td>0.0</td>\n",
       "      <td>0.665548</td>\n",
       "      <td>-0.302177</td>\n",
       "      <td>-0.536199</td>\n",
       "    </tr>\n",
       "    <tr>\n",
       "      <th>...</th>\n",
       "      <td>...</td>\n",
       "      <td>...</td>\n",
       "      <td>...</td>\n",
       "      <td>...</td>\n",
       "      <td>...</td>\n",
       "      <td>...</td>\n",
       "      <td>...</td>\n",
       "      <td>...</td>\n",
       "    </tr>\n",
       "    <tr>\n",
       "      <th>10859</th>\n",
       "      <td>-0.972988</td>\n",
       "      <td>-0.323849</td>\n",
       "      <td>0.070406</td>\n",
       "      <td>-1.143764</td>\n",
       "      <td>0.0</td>\n",
       "      <td>0.665548</td>\n",
       "      <td>-0.302177</td>\n",
       "      <td>-0.536199</td>\n",
       "    </tr>\n",
       "    <tr>\n",
       "      <th>10860</th>\n",
       "      <td>2.151926</td>\n",
       "      <td>-0.187375</td>\n",
       "      <td>0.383795</td>\n",
       "      <td>0.674141</td>\n",
       "      <td>0.0</td>\n",
       "      <td>0.665548</td>\n",
       "      <td>-0.302177</td>\n",
       "      <td>-0.536199</td>\n",
       "    </tr>\n",
       "    <tr>\n",
       "      <th>10861</th>\n",
       "      <td>0.068650</td>\n",
       "      <td>-0.630916</td>\n",
       "      <td>0.094513</td>\n",
       "      <td>-0.946712</td>\n",
       "      <td>0.0</td>\n",
       "      <td>-1.502522</td>\n",
       "      <td>3.309319</td>\n",
       "      <td>-0.536199</td>\n",
       "    </tr>\n",
       "    <tr>\n",
       "      <th>10862</th>\n",
       "      <td>0.068650</td>\n",
       "      <td>0.375580</td>\n",
       "      <td>-1.171983</td>\n",
       "      <td>0.772667</td>\n",
       "      <td>0.0</td>\n",
       "      <td>0.665548</td>\n",
       "      <td>-0.302177</td>\n",
       "      <td>-0.536199</td>\n",
       "    </tr>\n",
       "    <tr>\n",
       "      <th>10863</th>\n",
       "      <td>0.068650</td>\n",
       "      <td>-1.142694</td>\n",
       "      <td>0.216316</td>\n",
       "      <td>-0.076397</td>\n",
       "      <td>0.0</td>\n",
       "      <td>0.665548</td>\n",
       "      <td>-0.302177</td>\n",
       "      <td>-0.536199</td>\n",
       "    </tr>\n",
       "  </tbody>\n",
       "</table>\n",
       "<p>10864 rows × 8 columns</p>\n",
       "</div>"
      ],
      "text/plain": [
       "          Rooms  Distance  Lattitude  Longtitude  BuildingArea         h  \\\n",
       "0      1.110288 -0.767390   0.079287    0.550500           0.0  0.665548   \n",
       "1     -0.972988 -0.153257   0.196015    1.048927           0.0  0.665548   \n",
       "2      0.068650 -0.528561  -0.067891   -0.979554           0.0  0.665548   \n",
       "3      1.110288 -1.193871   0.008997   -0.412448           0.0  0.665548   \n",
       "4      1.110288 -0.323849   0.160489   -1.264507           0.0  0.665548   \n",
       "...         ...       ...        ...         ...           ...       ...   \n",
       "10859 -0.972988 -0.323849   0.070406   -1.143764           0.0  0.665548   \n",
       "10860  2.151926 -0.187375   0.383795    0.674141           0.0  0.665548   \n",
       "10861  0.068650 -0.630916   0.094513   -0.946712           0.0 -1.502522   \n",
       "10862  0.068650  0.375580  -1.171983    0.772667           0.0  0.665548   \n",
       "10863  0.068650 -1.142694   0.216316   -0.076397           0.0  0.665548   \n",
       "\n",
       "              t         u  \n",
       "0     -0.302177 -0.536199  \n",
       "1     -0.302177 -0.536199  \n",
       "2     -0.302177 -0.536199  \n",
       "3     -0.302177 -0.536199  \n",
       "4     -0.302177 -0.536199  \n",
       "...         ...       ...  \n",
       "10859 -0.302177 -0.536199  \n",
       "10860 -0.302177 -0.536199  \n",
       "10861  3.309319 -0.536199  \n",
       "10862 -0.302177 -0.536199  \n",
       "10863 -0.302177 -0.536199  \n",
       "\n",
       "[10864 rows x 8 columns]"
      ]
     },
     "execution_count": 46,
     "metadata": {},
     "output_type": "execute_result"
    }
   ],
   "source": [
    "scaled_cols_test = scaler.fit_transform(X_test)\n",
    "X_test = pd.DataFrame(scaled_cols_test, columns = X_test.columns)\n",
    "X_test"
   ]
  },
  {
   "cell_type": "code",
   "execution_count": 73,
   "id": "ffe46fb4",
   "metadata": {},
   "outputs": [],
   "source": [
    "from sklearn.linear_model import Ridge\n",
    "ridge_reg = Ridge(alpha=1) # if alpha is not at least 1e3, it has no effect\n",
    "# it is mostly because the values of price are huge and I haven't rescaled them"
   ]
  },
  {
   "cell_type": "code",
   "execution_count": 74,
   "id": "7c41108e",
   "metadata": {},
   "outputs": [],
   "source": [
    "ridge_reg.fit(X_train,Y_train)\n",
    "y_pred_ridge = ridge_reg.predict(X_test)\n",
    "y_pred_ridge = y_pred_ridge * y_std + y_mean # /!\\ It is NECESSARY to scale back no normal !!!!!"
   ]
  },
  {
   "cell_type": "markdown",
   "id": "7cc95a41",
   "metadata": {},
   "source": [
    "# MSE"
   ]
  },
  {
   "cell_type": "code",
   "execution_count": 75,
   "id": "2d2d1c03",
   "metadata": {
    "scrolled": true
   },
   "outputs": [
    {
     "data": {
      "text/plain": [
       "192746359783.02203"
      ]
     },
     "execution_count": 75,
     "metadata": {},
     "output_type": "execute_result"
    }
   ],
   "source": [
    "MSE = np.mean((y_pred_ridge-y_test_np)**2)\n",
    "MSE"
   ]
  },
  {
   "cell_type": "code",
   "execution_count": 76,
   "id": "d2cefb66",
   "metadata": {},
   "outputs": [
    {
     "data": {
      "text/plain": [
       "439028.8826296307"
      ]
     },
     "execution_count": 76,
     "metadata": {},
     "output_type": "execute_result"
    }
   ],
   "source": [
    "np.sqrt(MSE)"
   ]
  },
  {
   "cell_type": "markdown",
   "id": "98c771fd",
   "metadata": {},
   "source": [
    "No significant improvement compared to the non-regularized basic Regression."
   ]
  },
  {
   "cell_type": "markdown",
   "id": "f386833c",
   "metadata": {},
   "source": [
    "# Improvements of data split"
   ]
  },
  {
   "cell_type": "code",
   "execution_count": 51,
   "id": "e3c49127",
   "metadata": {},
   "outputs": [
    {
     "data": {
      "text/plain": [
       "<Axes: >"
      ]
     },
     "execution_count": 51,
     "metadata": {},
     "output_type": "execute_result"
    },
    {
     "data": {
      "image/png": "[encoded data removed]",
      "text/plain": [
       "<Figure size 640x480 with 1 Axes>"
      ]
     },
     "metadata": {},
     "output_type": "display_data"
    }
   ],
   "source": [
    "train_set[\"Price\"].hist(bins=10)"
   ]
  },
  {
   "cell_type": "code",
   "execution_count": 52,
   "id": "53a0d21a",
   "metadata": {},
   "outputs": [
    {
     "data": {
      "text/plain": [
       "<Axes: >"
      ]
     },
     "execution_count": 52,
     "metadata": {},
     "output_type": "execute_result"
    },
    {
     "data": {
      "image/png": "[encoded data removed]",
      "text/plain": [
       "<Figure size 640x480 with 1 Axes>"
      ]
     },
     "metadata": {},
     "output_type": "display_data"
    }
   ],
   "source": [
    "test_set[\"Price\"].hist(bins=10)"
   ]
  },
  {
   "cell_type": "markdown",
   "id": "66d86b6c",
   "metadata": {},
   "source": [
    "Even if the plots are not very detailed, we observe that the distributions are not the same. The original distribution was : "
   ]
  },
  {
   "cell_type": "code",
   "execution_count": 53,
   "id": "5ef6aaa7",
   "metadata": {},
   "outputs": [
    {
     "data": {
      "image/png": "[encoded data removed]",
      "text/plain": [
       "<Figure size 640x480 with 1 Axes>"
      ]
     },
     "metadata": {},
     "output_type": "display_data"
    }
   ],
   "source": [
    "n, bins, _ = plt.hist(df['Price'], bins = 10)"
   ]
  },
  {
   "cell_type": "markdown",
   "id": "bb40f4d0",
   "metadata": {},
   "source": [
    "It's closer to the train set distribution. To fix this issue, let's use the StratifiedShuffle splitter. First we need to categorise the data."
   ]
  },
  {
   "cell_type": "code",
   "execution_count": 54,
   "id": "5187a2ce",
   "metadata": {},
   "outputs": [
    {
     "data": {
      "text/plain": [
       "array([  85000.,  976500., 1868000., 2759500., 3651000., 4542500.,\n",
       "       5434000., 6325500., 7217000., 8108500., 9000000.])"
      ]
     },
     "execution_count": 54,
     "metadata": {},
     "output_type": "execute_result"
    }
   ],
   "source": [
    "bins"
   ]
  },
  {
   "cell_type": "code",
   "execution_count": 55,
   "id": "c2359ee0",
   "metadata": {},
   "outputs": [
    {
     "data": {
      "text/plain": [
       "array([  85000.,  976500., 1868000., 2759500., 3651000., 4542500.,\n",
       "       5434000., 6325500., 7217000., 8108500.,      inf])"
      ]
     },
     "execution_count": 55,
     "metadata": {},
     "output_type": "execute_result"
    }
   ],
   "source": [
    "bins[-1] = np.inf\n",
    "bins"
   ]
  },
  {
   "cell_type": "code",
   "execution_count": 56,
   "id": "af654d89",
   "metadata": {},
   "outputs": [
    {
     "data": {
      "text/html": [
       "<div>\n",
       "<style scoped>\n",
       "    .dataframe tbody tr th:only-of-type {\n",
       "        vertical-align: middle;\n",
       "    }\n",
       "\n",
       "    .dataframe tbody tr th {\n",
       "        vertical-align: top;\n",
       "    }\n",
       "\n",
       "    .dataframe thead th {\n",
       "        text-align: right;\n",
       "    }\n",
       "</style>\n",
       "<table border=\"1\" class=\"dataframe\">\n",
       "  <thead>\n",
       "    <tr style=\"text-align: right;\">\n",
       "      <th></th>\n",
       "      <th>Rooms</th>\n",
       "      <th>Price</th>\n",
       "      <th>Distance</th>\n",
       "      <th>Type</th>\n",
       "      <th>Lattitude</th>\n",
       "      <th>Longtitude</th>\n",
       "      <th>BuildingArea</th>\n",
       "      <th>price_cat</th>\n",
       "    </tr>\n",
       "  </thead>\n",
       "  <tbody>\n",
       "    <tr>\n",
       "      <th>0</th>\n",
       "      <td>2</td>\n",
       "      <td>1480000.0</td>\n",
       "      <td>2.5</td>\n",
       "      <td>h</td>\n",
       "      <td>-37.7996</td>\n",
       "      <td>144.9984</td>\n",
       "      <td>126.0</td>\n",
       "      <td>1</td>\n",
       "    </tr>\n",
       "    <tr>\n",
       "      <th>1</th>\n",
       "      <td>2</td>\n",
       "      <td>1035000.0</td>\n",
       "      <td>2.5</td>\n",
       "      <td>h</td>\n",
       "      <td>-37.8079</td>\n",
       "      <td>144.9934</td>\n",
       "      <td>126.0</td>\n",
       "      <td>1</td>\n",
       "    </tr>\n",
       "    <tr>\n",
       "      <th>2</th>\n",
       "      <td>3</td>\n",
       "      <td>1465000.0</td>\n",
       "      <td>2.5</td>\n",
       "      <td>h</td>\n",
       "      <td>-37.8093</td>\n",
       "      <td>144.9944</td>\n",
       "      <td>126.0</td>\n",
       "      <td>1</td>\n",
       "    </tr>\n",
       "    <tr>\n",
       "      <th>3</th>\n",
       "      <td>3</td>\n",
       "      <td>850000.0</td>\n",
       "      <td>2.5</td>\n",
       "      <td>h</td>\n",
       "      <td>-37.7969</td>\n",
       "      <td>144.9969</td>\n",
       "      <td>126.0</td>\n",
       "      <td>0</td>\n",
       "    </tr>\n",
       "    <tr>\n",
       "      <th>4</th>\n",
       "      <td>4</td>\n",
       "      <td>1600000.0</td>\n",
       "      <td>2.5</td>\n",
       "      <td>h</td>\n",
       "      <td>-37.8072</td>\n",
       "      <td>144.9941</td>\n",
       "      <td>126.0</td>\n",
       "      <td>1</td>\n",
       "    </tr>\n",
       "  </tbody>\n",
       "</table>\n",
       "</div>"
      ],
      "text/plain": [
       "   Rooms      Price  Distance Type  Lattitude  Longtitude  BuildingArea  \\\n",
       "0      2  1480000.0       2.5    h   -37.7996    144.9984         126.0   \n",
       "1      2  1035000.0       2.5    h   -37.8079    144.9934         126.0   \n",
       "2      3  1465000.0       2.5    h   -37.8093    144.9944         126.0   \n",
       "3      3   850000.0       2.5    h   -37.7969    144.9969         126.0   \n",
       "4      4  1600000.0       2.5    h   -37.8072    144.9941         126.0   \n",
       "\n",
       "  price_cat  \n",
       "0         1  \n",
       "1         1  \n",
       "2         1  \n",
       "3         0  \n",
       "4         1  "
      ]
     },
     "execution_count": 56,
     "metadata": {},
     "output_type": "execute_result"
    }
   ],
   "source": [
    "df[\"price_cat\"] = pd.cut(df[\"Price\"], bins = bins, labels = list(range(10)))\n",
    "df.head()"
   ]
  },
  {
   "cell_type": "code",
   "execution_count": 57,
   "id": "e8406ca0",
   "metadata": {},
   "outputs": [
    {
     "ename": "ValueError",
     "evalue": "Input y contains NaN.",
     "output_type": "error",
     "traceback": [
      "\u001b[0;31m---------------------------------------------------------------------------\u001b[0m",
      "\u001b[0;31mValueError\u001b[0m                                Traceback (most recent call last)",
      "Cell \u001b[0;32mIn[57], line 2\u001b[0m\n\u001b[1;32m      1\u001b[0m split \u001b[38;5;241m=\u001b[39m StratifiedShuffleSplit(n_splits\u001b[38;5;241m=\u001b[39m\u001b[38;5;241m1\u001b[39m, test_size\u001b[38;5;241m=\u001b[39m\u001b[38;5;241m0.2\u001b[39m)\n\u001b[0;32m----> 2\u001b[0m \u001b[38;5;28;01mfor\u001b[39;00m train_index, test_idx \u001b[38;5;129;01min\u001b[39;00m \u001b[43msplit\u001b[49m\u001b[38;5;241;43m.\u001b[39;49m\u001b[43msplit\u001b[49m\u001b[43m(\u001b[49m\u001b[43mdf\u001b[49m\u001b[43m,\u001b[49m\u001b[43m \u001b[49m\u001b[43mdf\u001b[49m\u001b[43m[\u001b[49m\u001b[38;5;124;43m'\u001b[39;49m\u001b[38;5;124;43mprice_cat\u001b[39;49m\u001b[38;5;124;43m'\u001b[39;49m\u001b[43m]\u001b[49m\u001b[43m)\u001b[49m:\n\u001b[1;32m      3\u001b[0m     strat_train_set \u001b[38;5;241m=\u001b[39m df\u001b[38;5;241m.\u001b[39mloc[train_index]\n\u001b[1;32m      4\u001b[0m     strat_test_set \u001b[38;5;241m=\u001b[39m df\u001b[38;5;241m.\u001b[39mloc[test_index]\n",
      "File \u001b[0;32m~/miniconda3/lib/python3.9/site-packages/sklearn/model_selection/_split.py:2160\u001b[0m, in \u001b[0;36mStratifiedShuffleSplit.split\u001b[0;34m(self, X, y, groups)\u001b[0m\n\u001b[1;32m   2126\u001b[0m \u001b[38;5;28;01mdef\u001b[39;00m \u001b[38;5;21msplit\u001b[39m(\u001b[38;5;28mself\u001b[39m, X, y, groups\u001b[38;5;241m=\u001b[39m\u001b[38;5;28;01mNone\u001b[39;00m):\n\u001b[1;32m   2127\u001b[0m \u001b[38;5;250m    \u001b[39m\u001b[38;5;124;03m\"\"\"Generate indices to split data into training and test set.\u001b[39;00m\n\u001b[1;32m   2128\u001b[0m \n\u001b[1;32m   2129\u001b[0m \u001b[38;5;124;03m    Parameters\u001b[39;00m\n\u001b[0;32m   (...)\u001b[0m\n\u001b[1;32m   2158\u001b[0m \u001b[38;5;124;03m    to an integer.\u001b[39;00m\n\u001b[1;32m   2159\u001b[0m \u001b[38;5;124;03m    \"\"\"\u001b[39;00m\n\u001b[0;32m-> 2160\u001b[0m     y \u001b[38;5;241m=\u001b[39m \u001b[43mcheck_array\u001b[49m\u001b[43m(\u001b[49m\u001b[43my\u001b[49m\u001b[43m,\u001b[49m\u001b[43m \u001b[49m\u001b[43minput_name\u001b[49m\u001b[38;5;241;43m=\u001b[39;49m\u001b[38;5;124;43m\"\u001b[39;49m\u001b[38;5;124;43my\u001b[39;49m\u001b[38;5;124;43m\"\u001b[39;49m\u001b[43m,\u001b[49m\u001b[43m \u001b[49m\u001b[43mensure_2d\u001b[49m\u001b[38;5;241;43m=\u001b[39;49m\u001b[38;5;28;43;01mFalse\u001b[39;49;00m\u001b[43m,\u001b[49m\u001b[43m \u001b[49m\u001b[43mdtype\u001b[49m\u001b[38;5;241;43m=\u001b[39;49m\u001b[38;5;28;43;01mNone\u001b[39;49;00m\u001b[43m)\u001b[49m\n\u001b[1;32m   2161\u001b[0m     \u001b[38;5;28;01mreturn\u001b[39;00m \u001b[38;5;28msuper\u001b[39m()\u001b[38;5;241m.\u001b[39msplit(X, y, groups)\n",
      "File \u001b[0;32m~/miniconda3/lib/python3.9/site-packages/sklearn/utils/validation.py:921\u001b[0m, in \u001b[0;36mcheck_array\u001b[0;34m(array, accept_sparse, accept_large_sparse, dtype, order, copy, force_all_finite, ensure_2d, allow_nd, ensure_min_samples, ensure_min_features, estimator, input_name)\u001b[0m\n\u001b[1;32m    915\u001b[0m         \u001b[38;5;28;01mraise\u001b[39;00m \u001b[38;5;167;01mValueError\u001b[39;00m(\n\u001b[1;32m    916\u001b[0m             \u001b[38;5;124m\"\u001b[39m\u001b[38;5;124mFound array with dim \u001b[39m\u001b[38;5;132;01m%d\u001b[39;00m\u001b[38;5;124m. \u001b[39m\u001b[38;5;132;01m%s\u001b[39;00m\u001b[38;5;124m expected <= 2.\u001b[39m\u001b[38;5;124m\"\u001b[39m\n\u001b[1;32m    917\u001b[0m             \u001b[38;5;241m%\u001b[39m (array\u001b[38;5;241m.\u001b[39mndim, estimator_name)\n\u001b[1;32m    918\u001b[0m         )\n\u001b[1;32m    920\u001b[0m     \u001b[38;5;28;01mif\u001b[39;00m force_all_finite:\n\u001b[0;32m--> 921\u001b[0m         \u001b[43m_assert_all_finite\u001b[49m\u001b[43m(\u001b[49m\n\u001b[1;32m    922\u001b[0m \u001b[43m            \u001b[49m\u001b[43marray\u001b[49m\u001b[43m,\u001b[49m\n\u001b[1;32m    923\u001b[0m \u001b[43m            \u001b[49m\u001b[43minput_name\u001b[49m\u001b[38;5;241;43m=\u001b[39;49m\u001b[43minput_name\u001b[49m\u001b[43m,\u001b[49m\n\u001b[1;32m    924\u001b[0m \u001b[43m            \u001b[49m\u001b[43mestimator_name\u001b[49m\u001b[38;5;241;43m=\u001b[39;49m\u001b[43mestimator_name\u001b[49m\u001b[43m,\u001b[49m\n\u001b[1;32m    925\u001b[0m \u001b[43m            \u001b[49m\u001b[43mallow_nan\u001b[49m\u001b[38;5;241;43m=\u001b[39;49m\u001b[43mforce_all_finite\u001b[49m\u001b[43m \u001b[49m\u001b[38;5;241;43m==\u001b[39;49m\u001b[43m \u001b[49m\u001b[38;5;124;43m\"\u001b[39;49m\u001b[38;5;124;43mallow-nan\u001b[39;49m\u001b[38;5;124;43m\"\u001b[39;49m\u001b[43m,\u001b[49m\n\u001b[1;32m    926\u001b[0m \u001b[43m        \u001b[49m\u001b[43m)\u001b[49m\n\u001b[1;32m    928\u001b[0m \u001b[38;5;28;01mif\u001b[39;00m ensure_min_samples \u001b[38;5;241m>\u001b[39m \u001b[38;5;241m0\u001b[39m:\n\u001b[1;32m    929\u001b[0m     n_samples \u001b[38;5;241m=\u001b[39m _num_samples(array)\n",
      "File \u001b[0;32m~/miniconda3/lib/python3.9/site-packages/sklearn/utils/validation.py:161\u001b[0m, in \u001b[0;36m_assert_all_finite\u001b[0;34m(X, allow_nan, msg_dtype, estimator_name, input_name)\u001b[0m\n\u001b[1;32m    144\u001b[0m \u001b[38;5;28;01mif\u001b[39;00m estimator_name \u001b[38;5;129;01mand\u001b[39;00m input_name \u001b[38;5;241m==\u001b[39m \u001b[38;5;124m\"\u001b[39m\u001b[38;5;124mX\u001b[39m\u001b[38;5;124m\"\u001b[39m \u001b[38;5;129;01mand\u001b[39;00m has_nan_error:\n\u001b[1;32m    145\u001b[0m     \u001b[38;5;66;03m# Improve the error message on how to handle missing values in\u001b[39;00m\n\u001b[1;32m    146\u001b[0m     \u001b[38;5;66;03m# scikit-learn.\u001b[39;00m\n\u001b[1;32m    147\u001b[0m     msg_err \u001b[38;5;241m+\u001b[39m\u001b[38;5;241m=\u001b[39m (\n\u001b[1;32m    148\u001b[0m         \u001b[38;5;124mf\u001b[39m\u001b[38;5;124m\"\u001b[39m\u001b[38;5;130;01m\\n\u001b[39;00m\u001b[38;5;132;01m{\u001b[39;00mestimator_name\u001b[38;5;132;01m}\u001b[39;00m\u001b[38;5;124m does not accept missing values\u001b[39m\u001b[38;5;124m\"\u001b[39m\n\u001b[1;32m    149\u001b[0m         \u001b[38;5;124m\"\u001b[39m\u001b[38;5;124m encoded as NaN natively. For supervised learning, you might want\u001b[39m\u001b[38;5;124m\"\u001b[39m\n\u001b[0;32m   (...)\u001b[0m\n\u001b[1;32m    159\u001b[0m         \u001b[38;5;124m\"\u001b[39m\u001b[38;5;124m#estimators-that-handle-nan-values\u001b[39m\u001b[38;5;124m\"\u001b[39m\n\u001b[1;32m    160\u001b[0m     )\n\u001b[0;32m--> 161\u001b[0m \u001b[38;5;28;01mraise\u001b[39;00m \u001b[38;5;167;01mValueError\u001b[39;00m(msg_err)\n",
      "\u001b[0;31mValueError\u001b[0m: Input y contains NaN."
     ]
    }
   ],
   "source": [
    "split = StratifiedShuffleSplit(n_splits=1, test_size=0.2)\n",
    "for train_index, test_idx in split.split(df, df['price_cat']):\n",
    "    strat_train_set = df.loc[train_index]\n",
    "    strat_test_set = df.loc[test_index]"
   ]
  },
  {
   "cell_type": "code",
   "execution_count": null,
   "id": "9b465f96",
   "metadata": {},
   "outputs": [],
   "source": []
  }
 ],
 "metadata": {
  "kernelspec": {
   "display_name": "Python 3",
   "language": "python",
   "name": "python3"
  },
  "language_info": {
   "codemirror_mode": {
    "name": "ipython",
    "version": 3
   },
   "file_extension": ".py",
   "mimetype": "text/x-python",
   "name": "python",
   "nbconvert_exporter": "python",
   "pygments_lexer": "ipython3",
   "version": "3.9.5"
  }
 },
 "nbformat": 4,
 "nbformat_minor": 5
}
